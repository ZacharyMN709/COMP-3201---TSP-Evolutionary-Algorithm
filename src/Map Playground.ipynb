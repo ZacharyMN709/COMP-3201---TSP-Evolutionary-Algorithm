{
 "cells": [
  {
   "cell_type": "markdown",
   "metadata": {},
   "source": [
    "# Map Playground\n",
    "\n",
    "This notebook is set up to demonstrate some of the cool things `pandas` and `numpy` can do.\n",
    "Additionally, the notebook can render `HTML`, so if you want to get _extra_ fancy with the presentation, keep that in mind.\n",
    "\n",
    "To run a cell, first double click it, so that the bar on the left turns green. Then, press `Shift` & `Enter` and the cell will run. Keep in mind that variable used in the cells are considered global, so if you have _x_ in one cell, and declare _x_ again in another further down, you'll overwrite the original.\n",
    "\n",
    "If you want more details, please see the pdfs I uploaded, or for graphing, visit these links:\n",
    " - https://pandas.pydata.org/pandas-docs/stable/visualization.html\n",
    " - http://pandas.pydata.org/pandas-docs/version/0.13/visualization.html\n",
    " - https://matplotlib.org/users/pyplot_tutorial.html\n",
    "\n",
    "Finally, I've added cells at the bottom that will generate the TSP dataframes, so we can try playing with them a little bit, without worrying too much about keeping code clean or breaking anything important. These notebooks are great for testing and visualising what's going on."
   ]
  },
  {
   "cell_type": "code",
   "execution_count": 6,
   "metadata": {},
   "outputs": [],
   "source": [
    "%matplotlib inline\n",
    "%config InlineBackend.figure_format = 'svg'\n",
    "import numpy as np\n",
    "import matplotlib.pyplot as plt\n",
    "import pandas as pd\n",
    "import seaborn as sns\n",
    "from matplotlib.patches import Circle\n",
    "\n",
    "# Set up the style of the graphs, and display a sample graph\n",
    "graph_style = 5\n",
    "plt.style.use(plt.style.available[graph_style])  # 5, 14, 22\n",
    "sns.set_context(\"paper\")"
   ]
  },
  {
   "cell_type": "markdown",
   "metadata": {},
   "source": [
    "## Points in Circles"
   ]
  },
  {
   "cell_type": "markdown",
   "metadata": {},
   "source": [
    "Write a function called `pts_in_circle( pts, center, radius)` that accepts:\n",
    "\n",
    "`pts`:    a 2D floating point array with shape (N,2) representing N points\n",
    "\n",
    "`center`: a tuple containing (x,y) coordinates, which are the center of the circle, and\n",
    "\n",
    "`radius`: the radius of the circle. "
   ]
  },
  {
   "cell_type": "markdown",
   "metadata": {},
   "source": [
    "Some commands are:\n",
    "\n",
    "`(pts[0,0], pts[0,1])`: the first point\n",
    "\n",
    "`(pts[9,0], pts[9,1])`: the ninth point\n",
    "\n",
    "`pts[:,0]`: all the x-coordinates\n",
    "\n",
    "`pts[:,1]`: all the y-coordinaes."
   ]
  },
  {
   "cell_type": "markdown",
   "metadata": {},
   "source": [
    "This function returns a 2D array of all the points inside a *circle* given by `center` and `radius`, using only `numpy` operations and no loops."
   ]
  },
  {
   "cell_type": "code",
   "execution_count": null,
   "metadata": {
    "scrolled": false
   },
   "outputs": [],
   "source": [
    "def pts_in_circle(pts, center, radius):\n",
    "    x,y = pts[:, 0], pts[:, 1]\n",
    "    b = (((x-center[0])**2 + (y-center[1])**2)**0.5) <= radius\n",
    "    pts = pts[b]\n",
    "    return pts"
   ]
  },
  {
   "cell_type": "markdown",
   "metadata": {},
   "source": [
    "`pts_in_circle` in action:"
   ]
  },
  {
   "cell_type": "code",
   "execution_count": null,
   "metadata": {
    "scrolled": true
   },
   "outputs": [],
   "source": [
    "np.random.seed( 47 ) # ensures the same random sequence is created\n",
    "pts = np.random.uniform(0.0, 1.0,(500,2)) # (x,y) = (pts[0,0], pts[0,1])\n",
    "cir1 = (0.5,0.5);     cir1_r = 0.09\n",
    "cir2 = (0.25, 0.75);  cir2_r = 0.05\n",
    "cir3 = (0.2,0.1);     cir3_r = 0.07\n",
    "\n",
    "print('Circle 1', end=' ')\n",
    "cir1_pts = pts_in_circle( pts, cir1, cir1_r)\n",
    "for x,y in cir1_pts: print('({:4.2f},{:4.2f})'.format(x,y), end=' ' )\n",
    "\n",
    "print('\\nCircle 2', end=' '); \n",
    "cir2_pts = pts_in_circle( pts, cir2, cir2_r)\n",
    "for x,y in cir2_pts: print('({:4.2f},{:4.2f})'.format(x,y), end=' ' )\n",
    "\n",
    "print('\\nCircle 3', end=' ')\n",
    "cir3_pts = pts_in_circle( pts, cir3, cir3_r)\n",
    "for x,y in cir3_pts: print('({:4.2f},{:4.2f})'.format(x,y), end=' ' )"
   ]
  },
  {
   "cell_type": "markdown",
   "metadata": {},
   "source": [
    "And now graphed:"
   ]
  },
  {
   "cell_type": "code",
   "execution_count": null,
   "metadata": {},
   "outputs": [],
   "source": [
    "from matplotlib.patches import Circle\n",
    "c1_ptch = Circle(cir1, cir1_r, fill=False, ec='b')\n",
    "c2_ptch = Circle(cir2, cir2_r, fill=False, ec='r')\n",
    "c3_ptch = Circle(cir3, cir3_r, fill=False, ec='y')\n",
    "\n",
    "fig = plt.figure(1, figsize=(3.5,3.5) ); ax = plt.subplot() # make the plot square\n",
    "ax.add_patch(c1_ptch); ax.add_patch(c2_ptch); ax.add_patch(c3_ptch);\n",
    "\n",
    "ax.scatter(cir1_pts[:,0], cir1_pts[:,1], marker='.')\n",
    "ax.scatter(cir2_pts[:,0], cir2_pts[:,1], marker='.')\n",
    "ax.scatter(cir3_pts[:,0], cir3_pts[:,1], marker='.')\n",
    "plt.xlim(0.0,1.0); plt.ylim(0.0,1.0)  # ensures the plot is square\n",
    "None"
   ]
  },
  {
   "cell_type": "markdown",
   "metadata": {},
   "source": [
    "A function called `count_pts_in_circle`, that returns a count of points in the circles as an integer.\n",
    "`pts_in_circle` princples are heavily re-used here."
   ]
  },
  {
   "cell_type": "code",
   "execution_count": null,
   "metadata": {},
   "outputs": [],
   "source": [
    "def count_pts_in_circle(pts, center, radius ):  # slightly smaller\n",
    "    x,y = pts[:, 0], pts[:, 1]\n",
    "    b = (((x-center[0])**2 + (y-center[1])**2)**0.5) <= radius\n",
    "    return np.sum(b)"
   ]
  },
  {
   "cell_type": "markdown",
   "metadata": {},
   "source": [
    "Testing`count_pts_in_circle` with:"
   ]
  },
  {
   "cell_type": "code",
   "execution_count": null,
   "metadata": {},
   "outputs": [],
   "source": [
    "print('cir1 = %d' % count_pts_in_circle( pts, cir1, .10) )\n",
    "print('cir2 = %d' % count_pts_in_circle( pts, cir2, .05) )\n",
    "print('cir3 = %d' % count_pts_in_circle( pts, cir3, .07) )"
   ]
  },
  {
   "cell_type": "markdown",
   "metadata": {
    "collapsed": true
   },
   "source": [
    "## Circles in Circles"
   ]
  },
  {
   "cell_type": "markdown",
   "metadata": {},
   "source": [
    "A function called `circles_inside_circle( pts, circle)` that accepts:\n",
    "\n",
    "`pts`:    a 2D floating point array with shape (N,3) representing N circles in the form `(x,y,r)`, where `(x,y)` is the center of a circle with radius `r`\n",
    "\n",
    "`circle`: A 3-tuple `(x,y,r)`, containing the (x,y) coordinates of the center of the\n",
    "circle, and radius `r`. This circle is the one that contains the others."
   ]
  },
  {
   "cell_type": "code",
   "execution_count": null,
   "metadata": {},
   "outputs": [],
   "source": [
    "def circles_inside_circle( pts, circle):\n",
    "    x, y, r = pts[:, 0], pts[:, 1], pts[:, 2]\n",
    "    b = (((x-circle[0])**2 + (y-circle[1])**2)**0.5) <= circle[2]-r\n",
    "    pts = pts[b]\n",
    "    return pts"
   ]
  },
  {
   "cell_type": "markdown",
   "metadata": {},
   "source": [
    "Testing with:"
   ]
  },
  {
   "cell_type": "code",
   "execution_count": null,
   "metadata": {},
   "outputs": [],
   "source": [
    "np.random.seed( 47 ) # ensures the same random sequence is created\n",
    "pts = np.random.uniform(0.0, 10.0,(500,3)) # (x,y,r) = (pts[0,0], pts[0,1], pts[0,2])\n",
    "# scale the radius\n",
    "pts[:,2] /= 6.0\n",
    "\n",
    "def display(msg, circles ):\n",
    "    print(msg, 'contains ', end='')\n",
    "    for x,y,r in circles:\n",
    "        print('({:.1f},{:.1f},{:.2f})'.format(x,y,r), end=' ' )\n",
    "    print()\n",
    "    \n",
    "tests = [ (5.0,5.0, 1.0), (1.0,2.0, 1.0), (7.5, 9.0, 1.0),  ]\n",
    "for cir in tests:\n",
    "    c = circles_inside_circle(pts,cir)\n",
    "    display( str(cir), c)"
   ]
  },
  {
   "cell_type": "markdown",
   "metadata": {},
   "source": [
    "Plot all the circles contained in `(3.5, 4.5, 1.75)` in a similar way like above. `scatter` plots the circle \n",
    "centers, and `Circle` plots the outlines. \n",
    "\n",
    "The containing circle is plotted in a differenct colour, using the keyword argment `ec`."
   ]
  },
  {
   "cell_type": "code",
   "execution_count": null,
   "metadata": {},
   "outputs": [],
   "source": [
    "cc = (3.5, 4.5, 1.75)\n",
    "cirs = circles_inside_circle(pts, cc )"
   ]
  },
  {
   "cell_type": "code",
   "execution_count": null,
   "metadata": {},
   "outputs": [],
   "source": [
    "main = Circle( (cc[0], cc[1]), cc[2], fill=False, ec='r')\n",
    "ig = plt.figure(1, figsize=(3.5,3.5) ); ax = plt.subplot() # make the plot square\n",
    "ax.add_patch(main);\n",
    "\n",
    "ax.scatter( cirs[:,0], cirs[:,1], marker='.' )\n",
    "for i in cirs:\n",
    "    circ = Circle( (i[0], i[1]), i[2], fill=False, ec='b')\n",
    "    ax.add_patch(circ);\n",
    "\n",
    "plt.xlim(0.0,10.0); plt.ylim(0.0,10.0)  # ensures the plot is square\n",
    "pass"
   ]
  },
  {
   "cell_type": "markdown",
   "metadata": {},
   "source": [
    "## TSP Set-up"
   ]
  },
  {
   "cell_type": "code",
   "execution_count": 66,
   "metadata": {},
   "outputs": [],
   "source": [
    "cols = ['Latitude (Range shifted)', 'Longitude (Range shifted)']\n",
    "def read_tsp_file(fnum):\n",
    "    global FILENUM\n",
    "    FILENUM = fnum\n",
    "    if fnum == 1:\n",
    "        fname = \"TSP_WesternSahara_29.txt\"\n",
    "    elif fnum == 2:\n",
    "        #print('Warning! Takes approximately 1.5 seconds per decade')\n",
    "        fname = \"TSP_Uruguay_734.txt\"\n",
    "    elif fnum == 3:\n",
    "        #print('Warning! Takes approximately 45 seconds per decade')\n",
    "        fname = \"TSP_Canada_4663.txt\"\n",
    "    else:\n",
    "        print('Warning! Invalid seletion. Defaulting to test')\n",
    "        fname = \"TSP_Testbed_10.txt\"\n",
    "\n",
    "    # Uses indexing from 0, rather than 1, by skipping the first column in the data.\n",
    "    CITIES = pd.read_csv('Setups/TSP/TSP_Inputs/' + fname, usecols=[1, 2], header=None, delimiter=' ')\n",
    "    CITIES.columns = ['Lat', 'Lon']\n",
    "    CITIES.index.names = ['City']\n",
    "\n",
    "    Lats = CITIES['Lat'].transpose()\n",
    "    Lons = CITIES['Lon'].transpose()\n",
    "    DISTANCES = pd.DataFrame([((Lats - Lats[i])**2 + (Lons - Lons[i])**2)**0.5 for i in range(Lons.size)])\n",
    "\n",
    "    # Translate and invert the x values, and translate the y values\n",
    "    CITIES['Lat'] = CITIES['Lat'] - (CITIES['Lat'].min() + (CITIES['Lat'].max() - CITIES['Lat'].min()) / 2)\n",
    "    CITIES['Lon'] = (CITIES['Lon'].min() + (CITIES['Lon'].max() - CITIES['Lon'].min()) / 2) - CITIES['Lon']\n",
    "    CITIES.columns = cols\n",
    "\n",
    "    return CITIES, DISTANCES"
   ]
  },
  {
   "cell_type": "code",
   "execution_count": 2,
   "metadata": {},
   "outputs": [],
   "source": [
    "def brute_force_solver(fnum=None, pandas=True):\n",
    "    def depth_first_eval(start_list, to_add, opt_dist, opt_path):\n",
    "        if not to_add:\n",
    "            fitness = euclidean_distance(start_list)\n",
    "            if fitness <= opt_dist:\n",
    "                if fitness == opt_dist: print('Equal fitness found.')\n",
    "                else: print('New best fitness found: {}'.format(fitness))\n",
    "                opt_path = start_list.copy()\n",
    "                print(opt_path)\n",
    "            return fitness, opt_path\n",
    "\n",
    "        ele = to_add.pop(0)\n",
    "        for i in range(1, len(start_list)+1):\n",
    "            start_list.insert(i, ele)\n",
    "            if euclidean_distance(temp) <= opt_dist:\n",
    "                best, opt_path = depth_first_eval(start_list, to_add, opt_dist, opt_path)\n",
    "                if best < opt_dist:\n",
    "                    opt_dist = best\n",
    "            del start_list[i]\n",
    "        to_add.insert(0, ele)\n",
    "        return opt_dist, opt_path\n",
    "\n",
    "    if fnum: read_tsp_file(fnum)\n",
    "    opt_dist, opt_path, _ = get_best_path(FILENUM, brute_search=True)\n",
    "\n",
    "    start_time = time.time()\n",
    "    nodes = np.array([i for i in range(len(CITIES))])\n",
    "    opt_dist, opt_path = depth_first_eval(nodes[:3], nodes[3:], opt_dist, opt_path)\n",
    "    print(\"Heuristic aided brute force search took a total of: %s seconds\" % (time.time() - start_time))\n",
    "    print('Optimal fitness: ', opt_dist)\n",
    "    print(opt_path)"
   ]
  },
  {
   "cell_type": "code",
   "execution_count": 3,
   "metadata": {},
   "outputs": [],
   "source": [
    "def cities_in_radius(dataframe, city, radius):\n",
    "    x, y = dataframe[cols[1]], dataframe[cols[0]]\n",
    "    bool_frame = (((x-dataframe.loc[city][1])**2 + (y-dataframe.loc[city][0])**2)**0.5) <= radius\n",
    "    image = dataframe[bool_frame]\n",
    "    image.index.names = ['City - {}'.format(city)]\n",
    "    return image"
   ]
  },
  {
   "cell_type": "code",
   "execution_count": 4,
   "metadata": {},
   "outputs": [],
   "source": [
    "def scatter_heatmap(dataframe, target_cities=None, target_range=None):\n",
    "    import warnings; warnings.filterwarnings(\"ignore\")\n",
    "    \n",
    "    dataframe.plot.scatter(x=cols[1], y=cols[0], c=dataframe.index.get_values(), colormap='winter')\n",
    "\n",
    "    if target_cities and target_range:\n",
    "        if type(target_cities) == int: target_cities = [target_cities]\n",
    "        fig = plt.figure(1, figsize=(12,12))\n",
    "        ax = plt.subplot()\n",
    "        for city in target_cities:\n",
    "            circle_center = (dataframe.loc[city][1], dataframe.loc[city][0])\n",
    "            patch = Circle(circle_center, target_range, fill=False, ec='r', linewidth=1.5)\n",
    "            ax.add_patch(patch)\n",
    "            print(cities_in_radius(dataframe, city, target_range))"
   ]
  },
  {
   "cell_type": "code",
   "execution_count": 74,
   "metadata": {},
   "outputs": [
    {
     "data": {
      "text/plain": [
       "3094.978054490498"
      ]
     },
     "execution_count": 74,
     "metadata": {},
     "output_type": "execute_result"
    }
   ],
   "source": [
    "SAHARA_C, SAHARA_D = read_tsp_file(1)\n",
    "SAHARA_C\n",
    "SAHARA_D[0][10]"
   ]
  },
  {
   "cell_type": "code",
   "execution_count": null,
   "metadata": {},
   "outputs": [],
   "source": [
    "scatter_heatmap(SAHARA_C, [23, 1, 25, 11], 500)\n",
    "print(cities_in_radius(SAHARA_C, 23, 500))"
   ]
  },
  {
   "cell_type": "code",
   "execution_count": null,
   "metadata": {},
   "outputs": [],
   "source": [
    "URUGUAY = read_file(2)\n",
    "print(URUGUAY[cols[0]].max())\n",
    "print(URUGUAY[cols[1]].max())\n",
    "print(URUGUAY[cols[0]].min())\n",
    "print(URUGUAY[cols[1]].min())\n",
    "URUGUAY.head()"
   ]
  },
  {
   "cell_type": "code",
   "execution_count": null,
   "metadata": {},
   "outputs": [],
   "source": [
    "scatter_heatmap(URUGUAY, 25, 500)"
   ]
  },
  {
   "cell_type": "code",
   "execution_count": null,
   "metadata": {},
   "outputs": [],
   "source": [
    "CANADA = read_file(3)\n",
    "CANADA.head()"
   ]
  },
  {
   "cell_type": "code",
   "execution_count": null,
   "metadata": {},
   "outputs": [],
   "source": [
    "scatter_heatmap(CANADA, 125, 2500)"
   ]
  },
  {
   "cell_type": "code",
   "execution_count": null,
   "metadata": {},
   "outputs": [],
   "source": []
  }
 ],
 "metadata": {
  "kernelspec": {
   "display_name": "Python 3",
   "language": "python",
   "name": "python3"
  },
  "language_info": {
   "codemirror_mode": {
    "name": "ipython",
    "version": 3
   },
   "file_extension": ".py",
   "mimetype": "text/x-python",
   "name": "python",
   "nbconvert_exporter": "python",
   "pygments_lexer": "ipython3",
   "version": "3.6.4"
  }
 },
 "nbformat": 4,
 "nbformat_minor": 2
}
