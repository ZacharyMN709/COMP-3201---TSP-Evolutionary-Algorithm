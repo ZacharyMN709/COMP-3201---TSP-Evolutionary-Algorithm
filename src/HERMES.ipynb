{
 "cells": [
  {
   "cell_type": "code",
   "execution_count": null,
   "metadata": {},
   "outputs": [],
   "source": [
    "import os\n",
    "import os.path\n",
    "import sys\n",
    "d = os.path.join(os.getcwd(), '..')\n",
    "print(d)\n",
    "sys.path.append(d)"
   ]
  },
  {
   "cell_type": "code",
   "execution_count": null,
   "metadata": {},
   "outputs": [],
   "source": [
    "import matplotlib.pyplot as plt\n",
    "from matplotlib.backends.backend_agg import FigureCanvasAgg as FigureCanvas\n",
    "from matplotlib.figure import Figure as Figure\n",
    "import seaborn as sns\n",
    "import numpy as np\n",
    "import pandas as pd\n",
    "\n",
    "%matplotlib inline\n",
    "%config InlineBackend.figure_format = 'png'\n",
    "\n",
    "# https://pandas.pydata.org/pandas-docs/stable/visualization.html\n",
    "# http://pandas.pydata.org/pandas-docs/version/0.13/visualization.html\n",
    "# https://matplotlib.org/users/pyplot_tutorial.html\n",
    "\n",
    "# Set up the style of the graphs, and display a sample graph\n",
    "graph_style = 5\n",
    "plt.style.use(plt.style.available[graph_style])  # 5, 14, 22\n",
    "plt.figure(figsize=(30, 15))\n",
    "sns.set_context(\"paper\")"
   ]
  },
  {
   "cell_type": "code",
   "execution_count": null,
   "metadata": {},
   "outputs": [],
   "source": [
    "# Set Imports\n",
    "\n",
    "# These imports do not need to change between runs.\n",
    "from src.EA_Shell import EARunner as EA\n",
    "from src.Setups.TSP.TSP_Display import GraphingHelper as Grapher\n",
    "\n",
    "\n",
    "# Modular Imports\n",
    "\n",
    "# By changing these imports, you can easily redifine the problem you are attempting to solve,\n",
    "# and the problem representation, without having to re-write much of the code.\n",
    "from src.EA_Methods.List_Rep import ParentSelectionMethods as PSM\n",
    "from src.EA_Methods.List_Rep import MutationMethods as MM\n",
    "from src.EA_Methods.List_Rep import RecombinationMethods as RM\n",
    "from src.EA_Methods.List_Rep import SurvivorSelectionMethods as SSM\n",
    "from src.EA_Methods.List_Rep import PopulationManagementMethods as PMM\n",
    "from src.Setups.TSP import TSP_LST as DEF\n",
    "\n",
    "\n",
    "# Shell Object And Master Variable Initialization\n",
    "\n",
    "# Select which TSP instance to solve\n",
    "FILENUM             =      2\n",
    "\n",
    "# Determine the genome length and initialize key data\n",
    "genome_length       =      DEF.read_tsp_file(FILENUM)\n",
    "\n",
    "# Give the EARunner direct access to the modules which implement \n",
    "# various algortihms for each step of the EA, and their globals.\n",
    "ea                  =      EA(PSM, RM, MM, SSM, DEF, PMM)\n",
    "\n",
    "# Initialize the grapher with the appropriate data\n",
    "grapher             =      Grapher(FILENUM)\n",
    "grapher.start_up_display()\n",
    "grapher.cities"
   ]
  },
  {
   "cell_type": "code",
   "execution_count": null,
   "metadata": {},
   "outputs": [],
   "source": [
    "# Modular Function Definitions\n",
    "\n",
    "# By swapping out which functions are imported, but keeping the aliases,\n",
    "# the entire structure of the EA can be changed without rewriting code\n",
    "# in the main method.\n",
    "initialize           = DEF.random_initialization\n",
    "eval_fitness         = DEF.euclidean_distance\n",
    "parent_selection     = PSM.tournament\n",
    "generate_offspring   = RM.order_crossover\n",
    "apply_mutation       = MM.permutation_inversion\n",
    "select_survivors     = SSM.replacement\n",
    "prune_population     = PMM.ouroboric_culling\n",
    "\n",
    "\n",
    "# Set the desired functions and for the EA.\n",
    "# Important note: The EARunner has a helper class which stores and handles the variables\n",
    "# when it runs. It can be accessed after this call to set various rates and amounts.\n",
    "ea.set_params(genome_length, eval_fitness, initialize, parent_selection, generate_offspring,\n",
    "              apply_mutation, select_survivors, prune_population)\n",
    "\n",
    "\n",
    "# Global Variable Initialization\n",
    "generation_limit    =      1000\n",
    "print_snapshot      =      generation_limit // 50"
   ]
  },
  {
   "cell_type": "code",
   "execution_count": null,
   "metadata": {
    "scrolled": false
   },
   "outputs": [],
   "source": [
    "op_fit, best_indivs, gencount, run_history, time_tuple = ea.run(generation_limit, print_gens=print_snapshot)"
   ]
  },
  {
   "cell_type": "code",
   "execution_count": null,
   "metadata": {},
   "outputs": [],
   "source": [
    "df = pd.DataFrame(run_history)\n",
    "df.columns = ['Fitness', 'Route']\n",
    "df['Fitness'].plot(color='green')"
   ]
  },
  {
   "cell_type": "code",
   "execution_count": null,
   "metadata": {
    "scrolled": false
   },
   "outputs": [],
   "source": [
    "from math import pi, sin, cos  \n",
    "\n",
    "counter = 0\n",
    "prev = 0\n",
    "last_sig = run_history[0][0]\n",
    "plottable_tuples = []\n",
    "for x in range(0, generation_limit-1):\n",
    "    counter += 1\n",
    "    fitness = run_history[x][0]\n",
    "    \n",
    "    if fitness != prev and counter >= 10 and last_sig - fitness > 200:\n",
    "        last_sig = fitness\n",
    "        plottable_tuples.append((x, fitness, run_history[x][1]))\n",
    "        counter = 1\n",
    "    \n",
    "    prev = fitness\n",
    "\n",
    "plottable_tuples.append((generation_limit, run_history[-1][0], run_history[-1][1]))    \n",
    "for x in plottable_tuples:\n",
    "    print('Generation {: <5}: {:4.2f}'.format(x[0], x[1]))\n",
    "    \n",
    "grapher.generation_display(generation_limit, run_history[-1][0], run_history[-1][1])"
   ]
  },
  {
   "cell_type": "code",
   "execution_count": null,
   "metadata": {},
   "outputs": [],
   "source": [
    "x = grapher.cities[grapher.long_names[0]]\n",
    "y = grapher.cities[grapher.long_names[1]]\n",
    "\n",
    "for i in range(len(grapher.cities)):\n",
    "    c1 = run_history[-1][1][i]\n",
    "    c2 = run_history[-1][1][i % len(grapher.cities)-1]\n",
    "    per = pi * i / len(grapher.cities)\n",
    "    red_mod = max(cos(per), 0) * 0.3\n",
    "    bright_mod = -min(cos(per), 0) * 0.3\n",
    "    plt.plot([x[c1], x[c2]], [y[c1], y[c2]], color=[1-red_mod, bright_mod, bright_mod], marker='o')\n",
    "plt.title('City Locations (Normalized to origin of 0)')\n",
    "plt.show()"
   ]
  },
  {
   "cell_type": "code",
   "execution_count": null,
   "metadata": {},
   "outputs": [],
   "source": []
  }
 ],
 "metadata": {
  "kernelspec": {
   "display_name": "Python 3",
   "language": "python",
   "name": "python3"
  },
  "language_info": {
   "codemirror_mode": {
    "name": "ipython",
    "version": 3
   },
   "file_extension": ".py",
   "mimetype": "text/x-python",
   "name": "python",
   "nbconvert_exporter": "python",
   "pygments_lexer": "ipython3",
   "version": "3.6.4"
  }
 },
 "nbformat": 4,
 "nbformat_minor": 2
}
