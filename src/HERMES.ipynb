{
 "cells": [
  {
   "cell_type": "markdown",
   "metadata": {},
   "source": [
    "# H.E.R.M.E.S."
   ]
  },
  {
   "cell_type": "markdown",
   "metadata": {},
   "source": [
    "# Heuristic Enabled Rapid Modular Evolutionary Search"
   ]
  },
  {
   "cell_type": "markdown",
   "metadata": {},
   "source": [
    "## Set-up"
   ]
  },
  {
   "cell_type": "markdown",
   "metadata": {},
   "source": [
    "### File Housekeeping"
   ]
  },
  {
   "cell_type": "code",
   "execution_count": 1,
   "metadata": {},
   "outputs": [
    {
     "name": "stdout",
     "output_type": "stream",
     "text": [
      "C:\\Users\\Zachary\\Documents\\GitHub\\COMP 3201 - TSP Evolutionary Algorithm\\src\\..\n"
     ]
    }
   ],
   "source": [
    "import os\n",
    "import os.path\n",
    "import sys\n",
    "d = os.path.join(os.getcwd(), '..')\n",
    "print(d)\n",
    "sys.path.append(d)"
   ]
  },
  {
   "cell_type": "markdown",
   "metadata": {},
   "source": [
    "### Notebook Set-up"
   ]
  },
  {
   "cell_type": "code",
   "execution_count": 2,
   "metadata": {},
   "outputs": [
    {
     "data": {
      "text/plain": [
       "<matplotlib.figure.Figure at 0x241c8c9f5c0>"
      ]
     },
     "metadata": {},
     "output_type": "display_data"
    }
   ],
   "source": [
    "import matplotlib.pyplot as plt\n",
    "from matplotlib.backends.backend_agg import FigureCanvasAgg as FigureCanvas\n",
    "from matplotlib.figure import Figure as Figure\n",
    "from src.Other import Colours as CP\n",
    "import seaborn as sns\n",
    "import numpy as np\n",
    "import pandas as pd\n",
    "\n",
    "%matplotlib inline\n",
    "%config InlineBackend.figure_format = 'svg'\n",
    "\n",
    "# https://pandas.pydata.org/pandas-docs/stable/visualization.html\n",
    "# http://pandas.pydata.org/pandas-docs/version/0.13/visualization.html\n",
    "# https://matplotlib.org/users/pyplot_tutorial.html\n",
    "\n",
    "# Set up the style of the graphs\n",
    "graph_style = 5\n",
    "plt.style.use(plt.style.available[graph_style])  # 5, 14, 22\n",
    "plt.figure(figsize=(30, 15))\n",
    "sns.set_context(\"paper\")\n",
    "None"
   ]
  },
  {
   "cell_type": "markdown",
   "metadata": {},
   "source": [
    "### Imports"
   ]
  },
  {
   "cell_type": "markdown",
   "metadata": {},
   "source": [
    "#### Set Imports"
   ]
  },
  {
   "cell_type": "markdown",
   "metadata": {},
   "source": [
    "These imports do not need to change between runs.\n",
    "\n",
    "The `EA_Shell` is module which contains the class `EARunner`. This is general shell that is designed to handle many problems. It can dynamically change wheteher it evaluates the optimum as a minimum or maximum, and can be given functions to use in the when running the evolutionary algorithm.\n",
    "\n",
    "`Optimums` is a module which has information about known global optima or the best result obtained so far.\n",
    "\n",
    "`TSP_Display` is a module which has the `GraphingHelper` class. It uses `pandas`, as well as some other modules in the project to parse the city locations, add them to a `DataFrame`, which can then easily be plotted. It can also be given an individual and plot the path that individual represents. It has two plottting methods, one which emphasises the city locations, and the other that emphasises the path."
   ]
  },
  {
   "cell_type": "code",
   "execution_count": 3,
   "metadata": {},
   "outputs": [],
   "source": [
    "from src.EA_Shell import EARunner as EA\n",
    "from src.Setups.TSP.TSP_Inputs.Optimums import get_best_path\n",
    "from src.Setups.TSP.TSP_Display import GraphingHelper as Grapher"
   ]
  },
  {
   "cell_type": "markdown",
   "metadata": {},
   "source": [
    "#### Modular Imports"
   ]
  },
  {
   "cell_type": "markdown",
   "metadata": {},
   "source": [
    "These imports can be changed to redefine the problem.\n",
    "\n",
    "Here, the various modules which contain the methods for each step of the EA are imported. By switching the directory `.List_Rep` with another directory, the representation of the problem can easily be changed to use `numpy` or `C` arrays.\n",
    "\n",
    "As well, the particualrs of the problem definition are imported here, and swapping out `TSP_LST` with the approriate module change the representation of the data."
   ]
  },
  {
   "cell_type": "code",
   "execution_count": 4,
   "metadata": {},
   "outputs": [],
   "source": [
    "from src.EA_Methods.List_Rep import ParentSelectionMethods as PSM\n",
    "from src.EA_Methods.List_Rep import MutationMethods as MM\n",
    "from src.EA_Methods.List_Rep import RecombinationMethods as RM\n",
    "from src.EA_Methods.List_Rep import SurvivorSelectionMethods as SSM\n",
    "from src.EA_Methods.List_Rep import PopulationManagementMethods as PMM\n",
    "from src.Setups.TSP import TSP_LST as DEF"
   ]
  },
  {
   "cell_type": "markdown",
   "metadata": {},
   "source": [
    "### Global Controls"
   ]
  },
  {
   "cell_type": "markdown",
   "metadata": {},
   "source": [
    "These are the key global variables.\n",
    " - `FILENUM`: This changes the file to be read.\n",
    " - `genome_length`: This is the number of cities in the read file.\n",
    " - `opt_dist`, `true_opt`: The optimal distance found so far, and whether it is the true optimum. \n",
    " - `ea`: The shell that runs the evolutionary algorithm. It is given references to the imported modules so it can access global variables and functions easily.\n",
    " - `grapher`: A helper class which is mainly for demonstration purposes. Can plot cities and paths.\n",
    " - `generation_limit`: The number of generations that the algorithm runs for.\n",
    " - `print_snapshot`: The interval for when to print a summary of population information."
   ]
  },
  {
   "cell_type": "code",
   "execution_count": 5,
   "metadata": {
    "scrolled": false
   },
   "outputs": [
    {
     "name": "stdout",
     "output_type": "stream",
     "text": [
      "Warning! Takes approximately 45 seconds per decade\n"
     ]
    }
   ],
   "source": [
    "FILENUM                =   3\n",
    "genome_length          =   DEF.read_tsp_file(FILENUM)\n",
    "opt_dist, _, true_opt  =   get_best_path(FILENUM)\n",
    "ea                     =   EA(PSM, RM, MM, SSM, DEF, PMM)\n",
    "grapher                =   Grapher(FILENUM)\n",
    "generation_limit       =   100\n",
    "print_snapshot         =   1"
   ]
  },
  {
   "cell_type": "markdown",
   "metadata": {},
   "source": [
    "### Modular Function Definitions"
   ]
  },
  {
   "cell_type": "markdown",
   "metadata": {},
   "source": [
    "The modules that were imported above are designed in such a way that all of their functions take in and return the same type of data. By doing this, we can easily switch out a function to change how a phase of the algorithm behaves. Because of how the above imports are set-up, switching which function is referenced in each module changes the function used in a single line of code. Aside from ease of use, this also prevent errors from functions not getting the proper arguments, and so it also prevents needless errors when testing.\n",
    "\n",
    "Finally, by setting the genome length, fitness evaluation, and all of the functions that the EA will use, setup is complete.\n",
    "As well, any variables related to the rates and limits in the EA can be set through the helper class it contains here. For simplicity sake, it comes pre-loaded with our preferred defaults."
   ]
  },
  {
   "cell_type": "code",
   "execution_count": 6,
   "metadata": {},
   "outputs": [
    {
     "name": "stdout",
     "output_type": "stream",
     "text": [
      "Population size smaller than mating pool size.\n",
      "Setting mating pool size to 5\n",
      "Loaded: C:\\Users\\Zachary\\Documents\\GitHub\\COMP 3201 - TSP Evolutionary Algorithm\\src\\..\\src\\Setups\\TSP\\TSP_Inputs\\TSP_Canada_MST.txt\n"
     ]
    }
   ],
   "source": [
    "initialize           = DEF.heuristic_euler_initialization\n",
    "eval_fitness         = DEF.euclidean_distance\n",
    "parent_selection     = PSM.tournament\n",
    "generate_offspring   = RM.pmx_crossover\n",
    "apply_mutation       = MM.permutation_inversion\n",
    "select_survivors     = SSM.mu_plus_lambda\n",
    "prune_population     = PMM.genetic_engineering\n",
    "\n",
    "ea.set_params(genome_length, eval_fitness, initialize, parent_selection, generate_offspring,\n",
    "              apply_mutation, select_survivors, prune_population)\n",
    "\n",
    "ea.vars.set_population_size(10)\n",
    "\n",
    "# Initialise Heuristics - For presentation\n",
    "DEF.heuristic_euler_initialization(1, genome_length)\n",
    "DEF.heuristic_cluster_initialization(1, genome_length)\n",
    "None"
   ]
  },
  {
   "cell_type": "markdown",
   "metadata": {},
   "source": [
    "## Runtime"
   ]
  },
  {
   "cell_type": "markdown",
   "metadata": {},
   "source": [
    "With all imports and object initializations out of the way, we can run the EA with a single function call: `run()`\n",
    "\n",
    "`run()` takes in a few arguments, the only non-optional one being the `generation_limit`. The other arguments are for hw often a generation summary should be printed, the best fitness found, whether that fitness is the true optimum, and a mute boolean, for if the EA is being multi-threaded (so the outputs don't clash and clutter the terminal).\n",
    "\n",
    "`run()` returns the best fitnees found, the idividuals with that fitness, the generation it ended on (in case of early convergence), a history of best individuals over the generations, and a tuple with the results of clocking the functions."
   ]
  },
  {
   "cell_type": "code",
   "execution_count": null,
   "metadata": {
    "scrolled": false
   },
   "outputs": [],
   "source": [
    "op_fit, best_indivs, gencount, run_history, time_tuple = ea.run(generation_limit, 0, print_gens=print_snapshot,\n",
    "                                                                known_optimum=opt_dist, true_opt=true_opt, timed_exit=60*4)\n",
    "run_history_df = pd.DataFrame(run_history)"
   ]
  },
  {
   "cell_type": "markdown",
   "metadata": {},
   "source": [
    "### Data Visualization"
   ]
  },
  {
   "cell_type": "markdown",
   "metadata": {},
   "source": [
    "Here we plot the progression of the best fitnesses per generation."
   ]
  },
  {
   "cell_type": "code",
   "execution_count": null,
   "metadata": {},
   "outputs": [],
   "source": [
    "# grapher.plot_run(run_history_df)"
   ]
  },
  {
   "cell_type": "markdown",
   "metadata": {},
   "source": [
    "Here we plot the optimal path that was found. One helps accent the order of the cities, while the other helps focus on the path."
   ]
  },
  {
   "cell_type": "code",
   "execution_count": null,
   "metadata": {
    "scrolled": false
   },
   "outputs": [],
   "source": [
    "grapher.generation_display(generation_limit, run_history[-1][0], run_history[-1][1])\n",
    "grapher.alt_generation_display(generation_limit, run_history[-1][0], run_history[-1][1])"
   ]
  },
  {
   "cell_type": "markdown",
   "metadata": {},
   "source": [
    "## Previous Attempts"
   ]
  },
  {
   "cell_type": "markdown",
   "metadata": {},
   "source": [
    "Over the course of doing this project, we've tried many things, and on of the things that has had the greates impact is ia good search heuristic. Below we plot an individual from each of the initiaization methods."
   ]
  },
  {
   "cell_type": "markdown",
   "metadata": {},
   "source": [
    "### Euler Heuristic"
   ]
  },
  {
   "cell_type": "code",
   "execution_count": null,
   "metadata": {},
   "outputs": [],
   "source": [
    "hero = DEF.single_euler_individual(genome_length)\n",
    "grapher.generation_display(\"Euler Hueristic\", eval_fitness(hero), hero, True)"
   ]
  },
  {
   "cell_type": "markdown",
   "metadata": {},
   "source": [
    "### Cluster Heuristic"
   ]
  },
  {
   "cell_type": "code",
   "execution_count": null,
   "metadata": {},
   "outputs": [],
   "source": [
    "heuro = DEF.single_cluster_individual(genome_length)\n",
    "grapher.generation_display(\"Cluster Hueristic\", eval_fitness(heuro), heuro, True)"
   ]
  },
  {
   "cell_type": "markdown",
   "metadata": {},
   "source": [
    "### Ordered List"
   ]
  },
  {
   "cell_type": "code",
   "execution_count": null,
   "metadata": {
    "scrolled": false
   },
   "outputs": [],
   "source": [
    "ordo = [x for x in range(genome_length)]\n",
    "grapher.generation_display(\"Ordered\", eval_fitness(ordo), ordo, True)"
   ]
  },
  {
   "cell_type": "markdown",
   "metadata": {},
   "source": [
    "### Random"
   ]
  },
  {
   "cell_type": "code",
   "execution_count": null,
   "metadata": {},
   "outputs": [],
   "source": [
    "rando = DEF.single_random_individual(genome_length)\n",
    "grapher.generation_display(\"Random\", eval_fitness(rando), rando, True)"
   ]
  },
  {
   "cell_type": "code",
   "execution_count": null,
   "metadata": {},
   "outputs": [],
   "source": [
    "grapher.plot_run(run_history_df, eval_fitness(DEF.single_random_individual(genome_length)))"
   ]
  },
  {
   "cell_type": "markdown",
   "metadata": {},
   "source": [
    "## Statistics and Graphs"
   ]
  },
  {
   "cell_type": "code",
   "execution_count": null,
   "metadata": {},
   "outputs": [],
   "source": [
    "from src.StatsHolder import StatsHolder\n",
    "\n",
    "grapher                =   Grapher(2)  ## initialize the grapher with the Uruguay data.\n",
    "\n",
    "# Set-up easy grabbing of previously compiled stats.\n",
    "def pickle_to_df(identity_tuple, truncate):\n",
    "    def resolve_unpickle_tuples(method_name, country, implementation):\n",
    "        # (File_name, country, method)\n",
    "        if method_name == 'Population':\n",
    "            return [('{}10214 G10000.txt'.format(x), country, implementation) for x in range(3)]\n",
    "        if method_name == 'Mutation':\n",
    "            return [('210{}14 G10000.txt'.format(x), country, implementation) for x in range(4)]\n",
    "        if method_name == 'Management':\n",
    "            return [('21021{} G10000.txt'.format(x), country, implementation) for x in range(5)]\n",
    "\n",
    "    method_name, country, implementation = identity_tuple\n",
    "    to_unpickle = resolve_unpickle_tuples(method_name, country, implementation)\n",
    "    stat_objs = [StatsHolder.stat_obj_from_pickle(x) for x in to_unpickle]\n",
    "    summaries = [s.average_generation_fitness() for s in stat_objs]\n",
    "    optimums = [s.best_generation_fitness() for s in stat_objs]\n",
    "    x_axis = {'x': [x for x in range(len(summaries[0]))][truncate:-1]}\n",
    "    if method_name == 'Population':\n",
    "        summaries = {stat_objs[y].POPULATION_METHOD : summaries[y][truncate:-1] for y in range(len(summaries))}\n",
    "        optimums = {stat_objs[y].POPULATION_METHOD : optimums[y][truncate:-1] for y in range(len(optimums))}\n",
    "    if method_name == 'Mutation':\n",
    "        summaries = {stat_objs[y].MUTATION_METHOD : summaries[y][truncate:-1] for y in range(len(summaries))}\n",
    "        optimums = {stat_objs[y].MUTATION_METHOD : optimums[y][truncate:-1] for y in range(len(optimums))}\n",
    "    if method_name == 'Management':\n",
    "        summaries = {stat_objs[y].MANAGEMENT_METHOD : summaries[y][truncate:-1] for y in range(len(summaries))}\n",
    "        optimums = {stat_objs[y].MANAGEMENT_METHOD : optimums[y][truncate:-1] for y in range(len(optimums))}\n",
    "    return pd.DataFrame({**x_axis, **summaries}), pd.DataFrame({**x_axis, **optimums})"
   ]
  },
  {
   "cell_type": "code",
   "execution_count": null,
   "metadata": {},
   "outputs": [],
   "source": [
    "id_tuple = ('Management', 2, 2)\n",
    "avgs, opts = pickle_to_df(id_tuple, 0)"
   ]
  },
  {
   "cell_type": "code",
   "execution_count": null,
   "metadata": {
    "scrolled": false
   },
   "outputs": [],
   "source": [
    "grapher.quad_plot(avgs, opts)"
   ]
  },
  {
   "cell_type": "code",
   "execution_count": null,
   "metadata": {},
   "outputs": [],
   "source": []
  }
 ],
 "metadata": {
  "kernelspec": {
   "display_name": "Python 3",
   "language": "python",
   "name": "python3"
  },
  "language_info": {
   "codemirror_mode": {
    "name": "ipython",
    "version": 3
   },
   "file_extension": ".py",
   "mimetype": "text/x-python",
   "name": "python",
   "nbconvert_exporter": "python",
   "pygments_lexer": "ipython3",
   "version": "3.6.4"
  }
 },
 "nbformat": 4,
 "nbformat_minor": 2
}
