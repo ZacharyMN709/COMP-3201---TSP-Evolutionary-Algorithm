{
 "cells": [
  {
   "cell_type": "code",
   "execution_count": 5,
   "metadata": {
    "collapsed": true
   },
   "outputs": [
    {
     "name": "stdout",
     "output_type": "stream",
     "text": [
      "Hello World!\n"
     ]
    }
   ],
   "source": [
    "print('Hello World!')"
   ]
  },
  {
   "cell_type": "code",
   "execution_count": 6,
   "metadata": {},
   "outputs": [],
   "source": [
    "# Changing this variable changes which file to parse.\n",
    "# Makes testing/presenting easier, since less code has to be changed.\n",
    "FILENUM = 1"
   ]
  },
  {
   "cell_type": "code",
   "execution_count": 9,
   "metadata": {},
   "outputs": [],
   "source": [
    "from random import shuffle, random\n",
    "\n",
    "from src.ParentSelectionMethods import tournament as PSM\n",
    "from src.RecombinationMethods import recombination_cut_crossover as RM\n",
    "from src.MutationMethods import permutation_swap as MM\n",
    "from src.SurvivorSelectionMethods import replacement as SSM\n",
    "from src.Setups.TSP.TSP import read_tsp_file as parse_file\n",
    "from src.Setups.TSP.TSP import random_initialization as initialize\n",
    "from src.Setups.TSP.TSP import euclidean_distance as eval_fitness\n",
    "\n",
    "genome_length       =      parse_file(FILENUM)\n",
    "generation_limit    =      100\n",
    "\n",
    "population_size     =      60\n",
    "mating_pool_size    =      population_size//2 if (population_size//2) % 2 == 0 else (population_size//2)+1  # has to be even\n",
    "tournament_size     =      population_size//10\n",
    "\n",
    "mutation_rate       =      0.2\n",
    "crossover_rate      =      0.9\n",
    "crossover_point     =      genome_length//3\n",
    "\n"
   ]
  },
  {
   "cell_type": "code",
   "execution_count": null,
   "metadata": {},
   "outputs": [],
   "source": [
    "def evolution_algorithm(maximize, print_gens=True, display_freq=None):\n",
    "    if display_freq is None: display_freq = generation_limit\n",
    "    \n",
    "    # Modular function declarations\n",
    "    op = max if maximize else min\n",
    "\n",
    "    # Initialize Population\n",
    "    population = initialize(population_size, genome_length)\n",
    "    fitness = [eval_fitness(i) for i in population]\n",
    "\n",
    "    # Evolution starts\n",
    "    for generation in range(generation_limit):\n",
    "\n",
    "        # Generation Info\n",
    "        if print_gens:\n",
    "            print(\"Generation: {}\\n  Best fitness: {}\\n  Avg. fitness: {}\".format(\n",
    "                generation+1, op(fitness), sum(fitness)/len(fitness))\n",
    "            )\n",
    "\n",
    "        # Parent Selection\n",
    "        parents_index = PSM(fitness, mating_pool_size, tournament_size, op)\n",
    "        shuffle(parents_index)\n",
    "\n",
    "        # Recombination\n",
    "        offspring = []\n",
    "        for i in range(0, mating_pool_size, 2):\n",
    "            if random() < crossover_rate:\n",
    "                off1, off2 = RM(population[parents_index[i]], population[parents_index[i+1]], crossover_point)\n",
    "            else:\n",
    "                off1, off2 = population[parents_index[i]].copy(), population[parents_index[i+1]].copy()\n",
    "            offspring.append(off1)\n",
    "            offspring.append(off2)\n",
    "\n",
    "        # Mutations Selection\n",
    "        offspring = [MM(i) if random() < mutation_rate else i for i in offspring]\n",
    "        offspring_fitness = [eval_fitness(i) for i in offspring]\n",
    "\n",
    "        # Survivor Selection\n",
    "        population, fitness = SSM(population, fitness, offspring, offspring_fitness, op)\n",
    "        \n",
    "        if generation % display_freq == 0:\n",
    "            # TODO - Cool display things go here.\n",
    "            pass\n",
    "    # Evolution ends\n",
    "        \n",
    "    # Final Fitness Info\n",
    "    op_fit = op(fitness)\n",
    "    optimal_solutions = [i + 1 for i in range(population_size) if fitness[i] == op_fit]\n",
    "    print(\"Best solution fitness:\", op_fit, \"\\nNumber of optimal solutions: \", len(optimal_solutions), '/', population_size)\n",
    "    print(\"Best solution indexes:\", optimal_solutions)"
   ]
  }
 ],
 "metadata": {
  "kernelspec": {
   "display_name": "Python 2",
   "language": "python",
   "name": "python2"
  },
  "language_info": {
   "codemirror_mode": {
    "name": "ipython",
    "version": 2
   },
   "file_extension": ".py",
   "mimetype": "text/x-python",
   "name": "python",
   "nbconvert_exporter": "python",
   "pygments_lexer": "ipython2",
   "version": "2.7.6"
  }
 },
 "nbformat": 4,
 "nbformat_minor": 0
}
