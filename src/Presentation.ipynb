{
 "cells": [
  {
   "cell_type": "code",
   "execution_count": 6,
   "metadata": {
    "collapsed": false
   },
   "outputs": [],
   "source": [
    "import matplotlib.pyplot as plt\n",
    "from matplotlib.backends.backend_agg import FigureCanvasAgg as FigureCanvas\n",
    "from matplotlib.figure import Figure as Figure\n",
    "import seaborn as sns\n",
    "import src.Other.Colours as CP\n",
    "import numpy as np\n",
    "import pandas as pd\n",
    "import math\n",
    "\n",
    "%matplotlib inline\n",
    "%config InlineBackend.figure_format = 'svg'\n",
    "\n",
    "# https://pandas.pydata.org/pandas-docs/stable/visualization.html\n",
    "# http://pandas.pydata.org/pandas-docs/version/0.13/visualization.html\n",
    "# https://matplotlib.org/users/pyplot_tutorial.html"
   ]
  },
  {
   "cell_type": "code",
   "execution_count": 11,
   "metadata": {},
   "outputs": [
    {
     "name": "stdout",
     "output_type": "stream",
     "text": [
      "Using style 'seaborn-notebook'\n"
     ]
    },
    {
     "data": {
      "text/plain": [
       "<Figure size 576x396 with 1 Axes>"
      ]
     },
     "execution_count": 0,
     "metadata": {},
     "output_type": "execute_result"
    }
   ],
   "source": [
    "def palette_test(colour):\n",
    "    t = [t/5.0 for t in range(30)]\n",
    "    fig = Figure(figsize=(12.0, 15.0), dpi=100) \n",
    "    canvas = FigureCanvas(fig)\n",
    "    direc = 'src/Other/PaletteOutput/'\n",
    "\n",
    "    functions = [math.cos, math.sin, math.tan, lambda x: 1.5*x, \n",
    "                 math.exp, math.sqrt, math.ceil,\n",
    "                 math.floor, lambda x: x**2, lambda x: x**3]\n",
    "\n",
    "    for index, fn in enumerate(functions):\n",
    "        palette = colour+\"_\"+str(index)\n",
    "        ax = fig.add_subplot(5, 2, index+1)\n",
    "        ax.set_title(palette)\n",
    "        f = [fn(x) for x in t]\n",
    "        ax.plot(t, f, color=getattr(CP, palette), markersize=5.0) \n",
    "\n",
    "    fig.tight_layout()\n",
    "    fig.savefig(direc + colour + '_PALETTE.svg')\n",
    "    \n",
    "    plt.title(colour + ' PALETTE')\n",
    "    for index, fn in enumerate(functions):\n",
    "        palette = colour+\"_\"+str(index)\n",
    "        f = [fn(x) for x in t]\n",
    "        plt.plot(t, f, color=getattr(CP, palette))\n",
    "\n",
    "    plt.ylim(-15, 20)  # limits the y-axis\n",
    "    plt.tight_layout()\n",
    "    plt.savefig(direc + colour + '_OVERLAY.svg')\n",
    "\n",
    "plt.style.use(plt.style.available[14])  # 5, 14, 22\n",
    "sns.set_context(\"paper\")\n",
    "print(\"Using style '{}'\".format(plt.style.available[14]))\n",
    "palettes = [\"KIKI\", \"PONYO\"]\n",
    "for x in palettes: \n",
    "    palette_test(x)"
   ]
  },
  {
   "cell_type": "code",
   "execution_count": 13,
   "metadata": {},
   "outputs": [],
   "source": [
    "# Changing this variable changes which file to parse.\n",
    "# Makes testing/presenting easier, since less code has to be changed.\n",
    "FILENUM = 1"
   ]
  },
  {
   "cell_type": "code",
   "execution_count": 14,
   "metadata": {},
   "outputs": [],
   "source": [
    "from random import shuffle, random\n",
    "\n",
    "from src.EA_Methods.ParentSelectionMethods import tournament as PSM\n",
    "from src.EA_Methods.RecombinationMethods import recombination_cut_crossover as RM\n",
    "from src.EA_Methods.MutationMethods import permutation_swap as MM\n",
    "from src.EA_Methods.SurvivorSelectionMethods import replacement as SSM\n",
    "from src.Setups.TSP.TSP import read_tsp_file as parse_file\n",
    "from src.Setups.TSP.TSP import random_initialization as initialize\n",
    "from src.Setups.TSP.TSP import euclidean_distance as eval_fitness\n",
    "from src.Setups.TSP import TSP as TSP\n",
    "from src.EA_Methods import ParentSelectionMethods as ParentSelectionMethods\n",
    "from src.EA_Methods import SurvivorSelectionMethods as SurvivorSelectionMethods\n",
    "\n",
    "genome_length       =      parse_file(FILENUM)\n",
    "generation_limit    =      100\n",
    "\n",
    "population_size     =      60\n",
    "mating_pool_size    =      population_size//2 if (population_size//2) % 2 == 0 else (population_size//2)+1  # has to be even\n",
    "tournament_size     =      population_size//10\n",
    "\n",
    "mutation_rate       =      0.2\n",
    "crossover_rate      =      0.9\n",
    "crossover_point     =      genome_length//3\n",
    "\n",
    "ParentSelectionMethods.tournament_size = tournament_size\n",
    "\n"
   ]
  },
  {
   "cell_type": "code",
   "execution_count": 17,
   "metadata": {},
   "outputs": [
    {
     "data": {
      "text/plain": [
       "<matplotlib.axes._subplots.AxesSubplot at 0x9f8e90>"
      ]
     },
     "execution_count": 17,
     "metadata": {},
     "output_type": "execute_result"
    },
    {
     "data": {
      "text/plain": [
       "<Figure size 576x396 with 1 Axes>"
      ]
     },
     "execution_count": 0,
     "metadata": {},
     "output_type": "execute_result"
    }
   ],
   "source": [
    "def dict_to_df(d):\n",
    "    data = pd.DataFrame.from_dict(d, orient='index')\n",
    "    data.columns = ['x', 'y']\n",
    "    return data\n",
    "\n",
    "\n",
    "df = dict_to_df(TSP.LOCATIONS)\n",
    "df.plot.scatter(x='x', y='y')\n"
   ]
  },
  {
   "cell_type": "code",
   "execution_count": 6,
   "metadata": {},
   "outputs": [],
   "source": [
    "def evolution_algorithm(maximize, print_gens=True, display_freq=None):\n",
    "    if display_freq is None: display_freq = generation_limit\n",
    "    \n",
    "    # Modular function declarations\n",
    "    op = max if maximize else min\n",
    "    ParentSelectionMethods.op = op\n",
    "    SurvivorSelectionMethods.op = op\n",
    "\n",
    "    # Initialize Population\n",
    "    population = initialize(population_size, genome_length)\n",
    "    fitness = [eval_fitness(i) for i in population]\n",
    "    \n",
    "    if print_gens:\n",
    "        \n",
    "        # TODO - Cool display things go here.\n",
    "        pass\n",
    "\n",
    "    # Evolution starts\n",
    "    for generation in range(generation_limit):\n",
    "\n",
    "        # Generation Info\n",
    "        if print_gens:\n",
    "            print(\"Generation: {}\\n - Best fitness: {}\\n - Avg. fitness: {}\\n\".format(\n",
    "                generation+1, op(fitness), sum(fitness)/len(fitness))\n",
    "            )\n",
    "\n",
    "        # Parent Selection\n",
    "        parents_index = PSM(fitness, mating_pool_size)\n",
    "        shuffle(parents_index)\n",
    "\n",
    "        # Recombination\n",
    "        offspring = []\n",
    "        for i in range(0, mating_pool_size, 2):\n",
    "            if random() < crossover_rate:\n",
    "                off1, off2 = RM(population[parents_index[i]], population[parents_index[i+1]], crossover_point)\n",
    "            else:\n",
    "                off1, off2 = population[parents_index[i]].copy(), population[parents_index[i+1]].copy()\n",
    "            offspring.append(off1)\n",
    "            offspring.append(off2)\n",
    "\n",
    "        # Mutations Selection\n",
    "        offspring = [MM(i) if random() < mutation_rate else i for i in offspring]\n",
    "        offspring_fitness = [eval_fitness(i) for i in offspring]\n",
    "\n",
    "        # Survivor Selection\n",
    "        population, fitness = SSM(population, fitness, offspring, offspring_fitness)\n",
    "        \n",
    "        if print_gens and (generation % display_freq == 0):\n",
    "            # TODO - Cool display things go here.\n",
    "            pass\n",
    "    # Evolution ends\n",
    "        \n",
    "    # Final Fitness Info\n",
    "    op_fit = op(fitness)\n",
    "    optimal_solutions = [i + 1 for i in range(population_size) if fitness[i] == op_fit]\n",
    "    print(\"Best solution fitness:\", op_fit, \"\\nNumber of optimal solutions: \", len(optimal_solutions), '/', population_size)\n",
    "    print(\"Best solution indexes:\", optimal_solutions)"
   ]
  },
  {
   "cell_type": "code",
   "execution_count": 7,
   "metadata": {},
   "outputs": [
    {
     "name": "stdout",
     "output_type": "stream",
     "text": [
      "Generation: 1\n - Best fitness: 87488.67715545303\n - Avg. fitness: 110374.79998824821\n\nGeneration: 2\n - Best fitness: 85233.7176660953\n - Avg. fitness: 101713.87300574793\n\nGeneration: 3\n - Best fitness: 83720.194467435\n - Avg. fitness: 94167.58956247453\n\nGeneration: 4\n - Best fitness: 82392.93625588849\n - Avg. fitness: 89423.02066833615\n\nGeneration: 5\n - Best fitness: 78338.5964852943\n - Avg. fitness: 86171.44618082196\n\nGeneration: 6\n - Best fitness: 78338.5964852943\n - Avg. fitness: 82816.70401675724\n\nGeneration: 7\n - Best fitness: 78338.5964852943\n - Avg. fitness: 80466.52750500609\n\nGeneration: 8\n - Best fitness: 77502.4158239798\n - Avg. fitness: 79251.34577990859\n\nGeneration: 9\n - Best fitness: 75034.1146014247\n - Avg. fitness: 78887.81678217626\n\nGeneration: 10\n - Best fitness: 75034.1146014247\n - Avg. fitness: 80216.03829302365\n\nGeneration: 11\n - Best fitness: 75034.1146014247\n - Avg. fitness: 81823.12692076924\n\nGeneration: 12\n - Best fitness: 75034.1146014247\n - Avg. fitness: 80204.90548050466\n\nGeneration: 13\n - Best fitness: 75034.1146014247\n - Avg. fitness: 79186.58265219581\n\nGeneration: 14\n - Best fitness: 75034.1146014247\n - Avg. fitness: 77956.81792662614\n\nGeneration: 15\n - Best fitness: 75034.1146014247\n - Avg. fitness: 78070.54259216962\n\nGeneration: 16\n - Best fitness: 74637.31884422567\n - Avg. fitness: 77536.71738204286\n\nGeneration: 17\n - Best fitness: 73423.6745777005\n - Avg. fitness: 76575.95618337292\n\nGeneration: 18\n - Best fitness: 72395.20827823646\n - Avg. fitness: 76124.81294506458\n\nGeneration: 19\n - Best fitness: 72307.2462986186\n - Avg. fitness: 74978.32808295496\n\nGeneration: 20\n - Best fitness: 70304.68874201023\n - Avg. fitness: 74504.99444618593\n\nGeneration: 21\n - Best fitness: 69179.00645510292\n - Avg. fitness: 72786.21907428393\n\nGeneration: 22\n - Best fitness: 69179.00645510292\n - Avg. fitness: 72391.16738356395\n\nGeneration: 23\n - Best fitness: 69179.00645510292\n - Avg. fitness: 70933.67851831115\n\nGeneration: 24\n - Best fitness: 67536.26582315759\n - Avg. fitness: 69668.26540305116\n\nGeneration: 25\n - Best fitness: 64970.858583051515\n - Avg. fitness: 69339.06021964959\n\nGeneration: 26\n - Best fitness: 64474.43015820571\n - Avg. fitness: 69216.56046676161\n\nGeneration: 27\n - Best fitness: 63328.11795110619\n - Avg. fitness: 67917.85095006814\n\nGeneration: 28\n - Best fitness: 63162.1205074424\n - Avg. fitness: 65185.72941829819\n\nGeneration: 29\n - Best fitness: 59138.37516424513\n - Avg. fitness: 64380.29358139923\n\nGeneration: 30\n - Best fitness: 59138.37516424513\n - Avg. fitness: 63876.79550978269\n\nGeneration: 31\n - Best fitness: 58447.062615612245\n - Avg. fitness: 63143.53483896331\n\nGeneration: 32\n - Best fitness: 58447.062615612245\n - Avg. fitness: 62229.83668411781\n\nGeneration: 33\n - Best fitness: 58447.062615612245\n - Avg. fitness: 59674.30782905216\n\nGeneration: 34\n - Best fitness: 58028.48899601811\n - Avg. fitness: 58922.29825540694\n\nGeneration: 35\n - Best fitness: 53619.22765611651\n - Avg. fitness: 59228.368223155616\n\nGeneration: 36\n - Best fitness: 53619.22765611651\n - Avg. fitness: 59625.66299971013\n\nGeneration: 37\n - Best fitness: 52335.7988881864\n - Avg. fitness: 57467.838692966114\n\nGeneration: 38\n - Best fitness: 52335.7988881864\n - Avg. fitness: 55134.58854718664\n\nGeneration: 39\n - Best fitness: 50877.73374915893\n - Avg. fitness: 53403.45255536099\n\nGeneration: 40\n - Best fitness: 50877.73374915893\n - Avg. fitness: 53146.096604220664\n\nGeneration: 41\n - Best fitness: 50877.73374915893\n - Avg. fitness: 53200.73831959199\n\nGeneration: 42\n - Best fitness: 50877.73374915893\n - Avg. fitness: 53171.47505058961\n\nGeneration: 43\n - Best fitness: 49260.82323229407\n - Avg. fitness: 52540.45577988168\n\nGeneration: 44\n - Best fitness: 48968.59588867626\n - Avg. fitness: 52514.68569149842\n\nGeneration: 45\n - Best fitness: 48968.59588867626\n - Avg. fitness: 51337.29387330014\n\nGeneration: 46\n - Best fitness: 46687.095840323236\n - Avg. fitness: 51058.71909966121\n\nGeneration: 47\n - Best fitness: 44926.5146208116\n - Avg. fitness: 49294.53481176868\n\nGeneration: 48\n - Best fitness: 44926.5146208116\n - Avg. fitness: 48154.23156901368\n\nGeneration: 49\n - Best fitness: 44889.53905376947\n - Avg. fitness: 46686.3612219957\n\nGeneration: 50\n - Best fitness: 44889.53905376947\n - Avg. fitness: 45944.40541526968\n\nGeneration: 51\n - Best fitness: 44889.53905376947\n - Avg. fitness: 45656.19048583961\n\nGeneration: 52\n - Best fitness: 43824.62811135038\n - Avg. fitness: 45271.76741015406\n\nGeneration: 53\n - Best fitness: 43824.62811135038\n - Avg. fitness: 45751.23617049293\n\nGeneration: 54\n - Best fitness: 43722.28816420045\n - Avg. fitness: 44869.10029433853\n\nGeneration: 55\n - Best fitness: 43722.28816420045\n - Avg. fitness: 44933.07638654096\n\nGeneration: 56\n - Best fitness: 43722.28816420045\n - Avg. fitness: 44886.47963665875\n\nGeneration: 57\n - Best fitness: 43722.28816420045\n - Avg. fitness: 44470.847733734096\n\nGeneration: 58\n - Best fitness: 43722.28816420045\n - Avg. fitness: 44818.5130267426\n\nGeneration: 59\n - Best fitness: 43722.28816420045\n - Avg. fitness: 44437.97867047445\n\nGeneration: 60\n - Best fitness: 43722.28816420045\n - Avg. fitness: 44956.9825391118\n\nGeneration: 61\n - Best fitness: 43722.28816420045\n - Avg. fitness: 44596.83027509723\n\nGeneration: 62\n - Best fitness: 43635.40765273027\n - Avg. fitness: 44108.95462215443\n\nGeneration: 63\n - Best fitness: 43635.40765273027\n - Avg. fitness: 44580.298989786665\n\nGeneration: 64\n - Best fitness: 43635.40765273027\n - Avg. fitness: 44821.19425658586\n\nGeneration: 65\n - Best fitness: 43635.40765273027\n - Avg. fitness: 43975.63346454302\n\nGeneration: 66\n - Best fitness: 43635.40765273027\n - Avg. fitness: 44299.2129181724\n\nGeneration: 67\n - Best fitness: 43635.40765273027\n - Avg. fitness: 44331.928930752416\n\nGeneration: 68\n - Best fitness: 43635.40765273027\n - Avg. fitness: 44314.13394366324\n\nGeneration: 69\n - Best fitness: 43635.40765273027\n - Avg. fitness: 44360.8003312664\n\nGeneration: 70\n - Best fitness: 43635.40765273027\n - Avg. fitness: 43875.615115423614\n\nGeneration: 71\n - Best fitness: 43635.40765273027\n - Avg. fitness: 45300.197545512216\n\nGeneration: 72\n - Best fitness: 43635.40765273027\n - Avg. fitness: 44208.507806617956\n\nGeneration: 73\n - Best fitness: 43131.26018456995\n - Avg. fitness: 45442.75006055044\n\nGeneration: 74\n - Best fitness: 43131.26018456995\n - Avg. fitness: 44959.08134708936\n"
     ]
    },
    {
     "name": "stdout",
     "output_type": "stream",
     "text": [
      "\nGeneration: 75\n - Best fitness: 43131.26018456995\n - Avg. fitness: 44461.36623263546\n\nGeneration: 76\n - Best fitness: 43131.26018456995\n - Avg. fitness: 45381.34579909768\n\nGeneration: 77\n - Best fitness: 43131.26018456995\n - Avg. fitness: 44211.75608808558\n\nGeneration: 78\n - Best fitness: 43131.26018456995\n - Avg. fitness: 44470.358703962986\n\nGeneration: 79\n - Best fitness: 43131.26018456995\n - Avg. fitness: 45499.98770360811\n\nGeneration: 80\n - Best fitness: 43131.26018456995\n - Avg. fitness: 44188.0187924514\n\nGeneration: 81\n - Best fitness: 43131.26018456995\n - Avg. fitness: 45019.44987872067\n\nGeneration: 82\n - Best fitness: 41251.5186202691\n - Avg. fitness: 44831.80481586044\n\nGeneration: 83\n - Best fitness: 41251.5186202691\n - Avg. fitness: 44544.28240688417\n\nGeneration: 84\n - Best fitness: 41251.5186202691\n - Avg. fitness: 43589.25755536207\n\nGeneration: 85\n - Best fitness: 41251.5186202691\n - Avg. fitness: 43352.6291045197\n\nGeneration: 86\n - Best fitness: 41251.5186202691\n - Avg. fitness: 42131.874481381106\n\nGeneration: 87\n - Best fitness: 41251.5186202691\n - Avg. fitness: 42180.143423817324\n\nGeneration: 88\n - Best fitness: 41251.5186202691\n - Avg. fitness: 42227.79338481549\n\nGeneration: 89\n - Best fitness: 41251.5186202691\n - Avg. fitness: 41708.37655130771\n\nGeneration: 90\n - Best fitness: 41251.5186202691\n - Avg. fitness: 42276.60957765959\n\nGeneration: 91\n - Best fitness: 41251.5186202691\n - Avg. fitness: 41630.75390649774\n\nGeneration: 92\n - Best fitness: 41251.5186202691\n - Avg. fitness: 41693.461642273265\n\nGeneration: 93\n - Best fitness: 41251.5186202691\n - Avg. fitness: 41933.50954532\n\nGeneration: 94\n - Best fitness: 41251.5186202691\n - Avg. fitness: 41866.902036069114\n\nGeneration: 95\n - Best fitness: 41251.5186202691\n - Avg. fitness: 41786.461255497816\n\nGeneration: 96\n - Best fitness: 41251.5186202691\n - Avg. fitness: 42240.61190641471\n\nGeneration: 97\n - Best fitness: 41251.5186202691\n - Avg. fitness: 41853.72705059473\n\nGeneration: 98\n - Best fitness: 41251.5186202691\n - Avg. fitness: 42521.959412273995\n\nGeneration: 99\n - Best fitness: 41251.5186202691\n - Avg. fitness: 42016.6727040136\n\nGeneration: 100\n - Best fitness: 41251.5186202691\n - Avg. fitness: 42476.17404506375\n\nBest solution fitness: 41251.5186202691 \nNumber of optimal solutions:  55 / 60\nBest solution indexes: [1, 2, 3, 4, 5, 6, 7, 8, 9, 10, 11, 12, 13, 14, 15, 16, 17, 18, 19, 20, 21, 22, 23, 24, 25, 26, 27, 28, 29, 30, 31, 32, 33, 34, 35, 37, 38, 39, 40, 41, 42, 43, 44, 45, 47, 48, 49, 50, 51, 53, 54, 56, 58, 59, 60]\n"
     ]
    }
   ],
   "source": [
    "evolution_algorithm(False, True, min(int(generation_limit * 0.1), 50))"
   ]
  },
  {
   "cell_type": "code",
   "execution_count": null,
   "metadata": {},
   "outputs": [],
   "source": []
  }
 ],
 "metadata": {
  "kernelspec": {
   "display_name": "Python 2",
   "language": "python",
   "name": "python2"
  },
  "language_info": {
   "codemirror_mode": {
    "name": "ipython",
    "version": 2
   },
   "file_extension": ".py",
   "mimetype": "text/x-python",
   "name": "python",
   "nbconvert_exporter": "python",
   "pygments_lexer": "ipython2",
   "version": "2.7.6"
  }
 },
 "nbformat": 4,
 "nbformat_minor": 0
}
