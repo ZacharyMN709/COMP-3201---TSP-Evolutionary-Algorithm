{
 "cells": [
  {
   "cell_type": "code",
   "execution_count": 1,
   "metadata": {},
   "outputs": [],
   "source": [
    "import time\n",
    "from array import array\n",
    "from random import sample, shuffle, randint"
   ]
  },
  {
   "cell_type": "code",
   "execution_count": 2,
   "metadata": {},
   "outputs": [],
   "source": [
    "genome_length = 100\n",
    "test_count = 1000000\n",
    "alternations = 4"
   ]
  },
  {
   "cell_type": "markdown",
   "metadata": {},
   "source": [
    "# Helper Functions"
   ]
  },
  {
   "cell_type": "code",
   "execution_count": 3,
   "metadata": {},
   "outputs": [],
   "source": [
    "def stopwatch(count, method, *args):\n",
    "    start_time = time.time()\n",
    "    for _ in range(count):\n",
    "        method(*args)\n",
    "    return time.time() - start_time\n",
    "\n",
    "def alternate(count, method1, args1, method2, args2):\n",
    "    methods = [method1, method2]\n",
    "    args = [args1, args2]\n",
    "    output = [[], []]\n",
    "    for i in range(count*2):\n",
    "        output[i%2].append(methods[i%2](*args[i%2]))\n",
    "    return output[0], output[1]\n",
    "\n",
    "def sums(*args):\n",
    "    results = []\n",
    "    for arg in args:\n",
    "        total = 0\n",
    "        for element in arg:\n",
    "            total += element\n",
    "        results.append(total)\n",
    "    return tuple(results)\n",
    "    \n",
    "def lst_individual(genome_length):\n",
    "    return sample(list(range(genome_length)), genome_length)\n",
    "\n",
    "def arr_individual(genome_length):\n",
    "    return array('i', lst_individual(genome_length))\n",
    "\n",
    "def print_times(string1, time1, string2, time2):\n",
    "    print(\"%s: %.2f ms\\n%s: %.2f ms\\nPerformance Difference: %.2f%%\" % (string1, time1*1000, string2, time2*1000, ((time1/time2)-1)*100))\n",
    "\n",
    "def compare(count, alternations, method1, args1, method2, args2):\n",
    "    return sums(*alternate(alternations, stopwatch, [count//alternations, method1, *args1], stopwatch, [count//alternations, method2, *args2]))\n",
    "\n",
    "def gen_two_nums():\n",
    "    x = randint(0, genome_length - 1)\n",
    "    y = randint(0, genome_length - 1)\n",
    "    return x, y\n",
    "\n",
    "def gen_two_nums_ascending():\n",
    "    # Generate two integers such that x > y\n",
    "    x = randint(0, genome_length - 2)\n",
    "    y = randint(x+1, genome_length - 1)\n",
    "    return x, y"
   ]
  },
  {
   "cell_type": "markdown",
   "metadata": {},
   "source": [
    "# Mutation Methods"
   ]
  },
  {
   "cell_type": "markdown",
   "metadata": {},
   "source": [
    "## Swap"
   ]
  },
  {
   "cell_type": "code",
   "execution_count": 4,
   "metadata": {},
   "outputs": [],
   "source": [
    "def permutation_swap(individual):\n",
    "    # Generate two random indices\n",
    "    x, y = gen_two_nums()\n",
    "\n",
    "    # Swap the values at those indices\n",
    "    individual[x], individual[y] = individual[y], individual[x]\n",
    "\n",
    "    return individual"
   ]
  },
  {
   "cell_type": "code",
   "execution_count": 5,
   "metadata": {},
   "outputs": [
    {
     "name": "stdout",
     "output_type": "stream",
     "text": [
      "List: 231.61 ms\n",
      "Array: 259.43 ms\n",
      "Performance Difference: -10.73%\n"
     ]
    }
   ],
   "source": [
    "times = compare(test_count, alternations,\n",
    "                permutation_swap, [lst_individual(genome_length)],\n",
    "                permutation_swap, [arr_individual(genome_length)]\n",
    "               )\n",
    "\n",
    "print_times(\"List\", times[0], \"Array\", times[1])"
   ]
  },
  {
   "cell_type": "markdown",
   "metadata": {},
   "source": [
    "## Insert"
   ]
  },
  {
   "cell_type": "code",
   "execution_count": 6,
   "metadata": {},
   "outputs": [],
   "source": [
    "def permutation_insert(individual):\n",
    "    # Generate two random indices\n",
    "    x, y = gen_two_nums()\n",
    "\n",
    "    # Insert the value at y in the position after x\n",
    "    value = individual.pop(y)\n",
    "    individual.insert(x+1, value)\n",
    "\n",
    "    return individual"
   ]
  },
  {
   "cell_type": "code",
   "execution_count": 7,
   "metadata": {},
   "outputs": [
    {
     "name": "stdout",
     "output_type": "stream",
     "text": [
      "List: 341.73 ms\n",
      "Array: 288.38 ms\n",
      "Performance Difference: 18.50%\n"
     ]
    }
   ],
   "source": [
    "times = compare(test_count, alternations,\n",
    "                permutation_insert, [lst_individual(genome_length)],\n",
    "                permutation_insert, [arr_individual(genome_length)]\n",
    "               )\n",
    "\n",
    "print_times(\"List\", times[0], \"Array\", times[1])"
   ]
  },
  {
   "cell_type": "markdown",
   "metadata": {},
   "source": [
    "## Inversion"
   ]
  },
  {
   "cell_type": "code",
   "execution_count": 50,
   "metadata": {},
   "outputs": [],
   "source": [
    "def permutation_inversion_lst(individual):\n",
    "    # Generate two random indices in ascending order\n",
    "    x, y = gen_two_nums_ascending()\n",
    "\n",
    "    # Reverse the contents from x to y\n",
    "    individual[x:y] = individual[x:y][::-1]\n",
    "    return individual\n",
    "\n",
    "def permutation_inversion_arr(individual):\n",
    "    x, y = gen_two_nums_ascending()\n",
    "    for i in range((y-x)//2):\n",
    "        individual[x+i], individual[y-i] = individual[y-i], individual[x+i]\n",
    "            "
   ]
  },
  {
   "cell_type": "code",
   "execution_count": 70,
   "metadata": {},
   "outputs": [
    {
     "name": "stdout",
     "output_type": "stream",
     "text": [
      "List: 360.03 ms\n",
      "Array: 337.68 ms\n",
      "Performance Difference: 6.62%\n"
     ]
    }
   ],
   "source": [
    "times = compare(test_count, alternations,\n",
    "                permutation_inversion_lst, [lst_individual(genome_length)],\n",
    "                permutation_inversion_arr, [arr_individual(genome_length)]\n",
    "               )\n",
    "\n",
    "print_times(\"List\", times[0], \"Array\", times[1])"
   ]
  },
  {
   "cell_type": "markdown",
   "metadata": {},
   "source": [
    "## Scramble"
   ]
  },
  {
   "cell_type": "code",
   "execution_count": 10,
   "metadata": {},
   "outputs": [],
   "source": [
    "def permutation_scramble(individual):\n",
    "    # Generate two random indices in ascending order\n",
    "    x, y = gen_two_nums_ascending()\n",
    "\n",
    "    # Randomize the order of indices from x to y\n",
    "    temp = individual[x:y]\n",
    "    shuffle(temp)\n",
    "    individual[x:y] = temp\n",
    "\n",
    "    return individual"
   ]
  },
  {
   "cell_type": "code",
   "execution_count": 76,
   "metadata": {},
   "outputs": [
    {
     "name": "stdout",
     "output_type": "stream",
     "text": [
      "List: 3955.23 ms\n",
      "Arr: 3523.30 ms\n",
      "Performance Difference: 12.26%\n"
     ]
    }
   ],
   "source": [
    "times = compare(test_count, alternations,\n",
    "                permutation_scramble, [lst_individual(genome_length)],\n",
    "                permutation_scramble, [arr_individual(genome_length)]\n",
    "               )\n",
    "\n",
    "print_times(\"List\", times[0], \"Arr\", times[1])"
   ]
  },
  {
   "cell_type": "markdown",
   "metadata": {},
   "source": [
    "# Recombination Methods"
   ]
  },
  {
   "cell_type": "markdown",
   "metadata": {},
   "source": [
    "## Order Crossover"
   ]
  },
  {
   "cell_type": "code",
   "execution_count": 75,
   "metadata": {},
   "outputs": [],
   "source": [
    "def order_crossover_arr(parent1, parent2):\n",
    "    # Makes the offspring from the selected sub-sequence, and all the elements not in that sub-sequence.\n",
    "    offspring1 = parent1[:p1] + array('i', [x for x in parent2[p1:] + parent2[:p1] if x not in set(parent1[:p1])])\n",
    "    offspring2 = parent2[:p1] + array('i', [x for x in parent1[p1:] + parent1[:p1] if x not in set(parent2[:p1])])\n",
    "    return offspring1, offspring2\n",
    "\n",
    "def order_crossover_lst(parent1, parent2):\n",
    "    # Makes the offspring from the selected sub-sequence, and all the elements not in that sub-sequence.\n",
    "    offspring1 = parent1[:p1] + [x for x in parent2[p1:] + parent2[:p1] if x not in set(parent1[:p1])]\n",
    "    offspring2 = parent2[:p1] + [x for x in parent1[p1:] + parent1[:p1] if x not in set(parent2[:p1])]\n",
    "    return offspring1, offspring2"
   ]
  },
  {
   "cell_type": "code",
   "execution_count": 78,
   "metadata": {},
   "outputs": [
    {
     "ename": "NameError",
     "evalue": "name 'p1' is not defined",
     "output_type": "error",
     "traceback": [
      "\u001b[0;31m---------------------------------------------------------------------------\u001b[0m",
      "\u001b[0;31mNameError\u001b[0m                                 Traceback (most recent call last)",
      "\u001b[0;32m<ipython-input-78-b2ee657df4ab>\u001b[0m in \u001b[0;36m<module>\u001b[0;34m\u001b[0m\n\u001b[1;32m      1\u001b[0m times = compare(test_count, alternations,\n\u001b[1;32m      2\u001b[0m                 \u001b[0morder_crossover_lst\u001b[0m\u001b[0;34m,\u001b[0m \u001b[0;34m[\u001b[0m\u001b[0mlst_individual\u001b[0m\u001b[0;34m(\u001b[0m\u001b[0mgenome_length\u001b[0m\u001b[0;34m)\u001b[0m\u001b[0;34m,\u001b[0m \u001b[0mlst_individual\u001b[0m\u001b[0;34m(\u001b[0m\u001b[0mgenome_length\u001b[0m\u001b[0;34m)\u001b[0m\u001b[0;34m]\u001b[0m\u001b[0;34m,\u001b[0m\u001b[0;34m\u001b[0m\u001b[0m\n\u001b[0;32m----> 3\u001b[0;31m                 \u001b[0morder_crossover_arr\u001b[0m\u001b[0;34m,\u001b[0m \u001b[0;34m[\u001b[0m\u001b[0marr_individual\u001b[0m\u001b[0;34m(\u001b[0m\u001b[0mgenome_length\u001b[0m\u001b[0;34m)\u001b[0m\u001b[0;34m,\u001b[0m \u001b[0marr_individual\u001b[0m\u001b[0;34m(\u001b[0m\u001b[0mgenome_length\u001b[0m\u001b[0;34m)\u001b[0m\u001b[0;34m]\u001b[0m\u001b[0;34m\u001b[0m\u001b[0m\n\u001b[0m\u001b[1;32m      4\u001b[0m                )\n\u001b[1;32m      5\u001b[0m \u001b[0;34m\u001b[0m\u001b[0m\n",
      "\u001b[0;32m<ipython-input-3-6d1a3429b64a>\u001b[0m in \u001b[0;36mcompare\u001b[0;34m(count, alternations, method1, args1, method2, args2)\u001b[0m\n\u001b[1;32m     32\u001b[0m \u001b[0;34m\u001b[0m\u001b[0m\n\u001b[1;32m     33\u001b[0m \u001b[0;32mdef\u001b[0m \u001b[0mcompare\u001b[0m\u001b[0;34m(\u001b[0m\u001b[0mcount\u001b[0m\u001b[0;34m,\u001b[0m \u001b[0malternations\u001b[0m\u001b[0;34m,\u001b[0m \u001b[0mmethod1\u001b[0m\u001b[0;34m,\u001b[0m \u001b[0margs1\u001b[0m\u001b[0;34m,\u001b[0m \u001b[0mmethod2\u001b[0m\u001b[0;34m,\u001b[0m \u001b[0margs2\u001b[0m\u001b[0;34m)\u001b[0m\u001b[0;34m:\u001b[0m\u001b[0;34m\u001b[0m\u001b[0m\n\u001b[0;32m---> 34\u001b[0;31m     \u001b[0;32mreturn\u001b[0m \u001b[0msums\u001b[0m\u001b[0;34m(\u001b[0m\u001b[0;34m*\u001b[0m\u001b[0malternate\u001b[0m\u001b[0;34m(\u001b[0m\u001b[0malternations\u001b[0m\u001b[0;34m,\u001b[0m \u001b[0mstopwatch\u001b[0m\u001b[0;34m,\u001b[0m \u001b[0;34m[\u001b[0m\u001b[0mcount\u001b[0m\u001b[0;34m//\u001b[0m\u001b[0malternations\u001b[0m\u001b[0;34m,\u001b[0m \u001b[0mmethod1\u001b[0m\u001b[0;34m,\u001b[0m \u001b[0;34m*\u001b[0m\u001b[0margs1\u001b[0m\u001b[0;34m]\u001b[0m\u001b[0;34m,\u001b[0m \u001b[0mstopwatch\u001b[0m\u001b[0;34m,\u001b[0m \u001b[0;34m[\u001b[0m\u001b[0mcount\u001b[0m\u001b[0;34m//\u001b[0m\u001b[0malternations\u001b[0m\u001b[0;34m,\u001b[0m \u001b[0mmethod2\u001b[0m\u001b[0;34m,\u001b[0m \u001b[0;34m*\u001b[0m\u001b[0margs2\u001b[0m\u001b[0;34m]\u001b[0m\u001b[0;34m)\u001b[0m\u001b[0;34m)\u001b[0m\u001b[0;34m\u001b[0m\u001b[0m\n\u001b[0m\u001b[1;32m     35\u001b[0m \u001b[0;34m\u001b[0m\u001b[0m\n\u001b[1;32m     36\u001b[0m \u001b[0;32mdef\u001b[0m \u001b[0mgen_two_nums\u001b[0m\u001b[0;34m(\u001b[0m\u001b[0;34m)\u001b[0m\u001b[0;34m:\u001b[0m\u001b[0;34m\u001b[0m\u001b[0m\n",
      "\u001b[0;32m<ipython-input-3-6d1a3429b64a>\u001b[0m in \u001b[0;36malternate\u001b[0;34m(count, method1, args1, method2, args2)\u001b[0m\n\u001b[1;32m     10\u001b[0m     \u001b[0moutput\u001b[0m \u001b[0;34m=\u001b[0m \u001b[0;34m[\u001b[0m\u001b[0;34m[\u001b[0m\u001b[0;34m]\u001b[0m\u001b[0;34m,\u001b[0m \u001b[0;34m[\u001b[0m\u001b[0;34m]\u001b[0m\u001b[0;34m]\u001b[0m\u001b[0;34m\u001b[0m\u001b[0m\n\u001b[1;32m     11\u001b[0m     \u001b[0;32mfor\u001b[0m \u001b[0mi\u001b[0m \u001b[0;32min\u001b[0m \u001b[0mrange\u001b[0m\u001b[0;34m(\u001b[0m\u001b[0mcount\u001b[0m\u001b[0;34m*\u001b[0m\u001b[0;36m2\u001b[0m\u001b[0;34m)\u001b[0m\u001b[0;34m:\u001b[0m\u001b[0;34m\u001b[0m\u001b[0m\n\u001b[0;32m---> 12\u001b[0;31m         \u001b[0moutput\u001b[0m\u001b[0;34m[\u001b[0m\u001b[0mi\u001b[0m\u001b[0;34m%\u001b[0m\u001b[0;36m2\u001b[0m\u001b[0;34m]\u001b[0m\u001b[0;34m.\u001b[0m\u001b[0mappend\u001b[0m\u001b[0;34m(\u001b[0m\u001b[0mmethods\u001b[0m\u001b[0;34m[\u001b[0m\u001b[0mi\u001b[0m\u001b[0;34m%\u001b[0m\u001b[0;36m2\u001b[0m\u001b[0;34m]\u001b[0m\u001b[0;34m(\u001b[0m\u001b[0;34m*\u001b[0m\u001b[0margs\u001b[0m\u001b[0;34m[\u001b[0m\u001b[0mi\u001b[0m\u001b[0;34m%\u001b[0m\u001b[0;36m2\u001b[0m\u001b[0;34m]\u001b[0m\u001b[0;34m)\u001b[0m\u001b[0;34m)\u001b[0m\u001b[0;34m\u001b[0m\u001b[0m\n\u001b[0m\u001b[1;32m     13\u001b[0m     \u001b[0;32mreturn\u001b[0m \u001b[0moutput\u001b[0m\u001b[0;34m[\u001b[0m\u001b[0;36m0\u001b[0m\u001b[0;34m]\u001b[0m\u001b[0;34m,\u001b[0m \u001b[0moutput\u001b[0m\u001b[0;34m[\u001b[0m\u001b[0;36m1\u001b[0m\u001b[0;34m]\u001b[0m\u001b[0;34m\u001b[0m\u001b[0m\n\u001b[1;32m     14\u001b[0m \u001b[0;34m\u001b[0m\u001b[0m\n",
      "\u001b[0;32m<ipython-input-3-6d1a3429b64a>\u001b[0m in \u001b[0;36mstopwatch\u001b[0;34m(count, method, *args)\u001b[0m\n\u001b[1;32m      2\u001b[0m     \u001b[0mstart_time\u001b[0m \u001b[0;34m=\u001b[0m \u001b[0mtime\u001b[0m\u001b[0;34m.\u001b[0m\u001b[0mtime\u001b[0m\u001b[0;34m(\u001b[0m\u001b[0;34m)\u001b[0m\u001b[0;34m\u001b[0m\u001b[0m\n\u001b[1;32m      3\u001b[0m     \u001b[0;32mfor\u001b[0m \u001b[0m_\u001b[0m \u001b[0;32min\u001b[0m \u001b[0mrange\u001b[0m\u001b[0;34m(\u001b[0m\u001b[0mcount\u001b[0m\u001b[0;34m)\u001b[0m\u001b[0;34m:\u001b[0m\u001b[0;34m\u001b[0m\u001b[0m\n\u001b[0;32m----> 4\u001b[0;31m         \u001b[0mmethod\u001b[0m\u001b[0;34m(\u001b[0m\u001b[0;34m*\u001b[0m\u001b[0margs\u001b[0m\u001b[0;34m)\u001b[0m\u001b[0;34m\u001b[0m\u001b[0m\n\u001b[0m\u001b[1;32m      5\u001b[0m     \u001b[0;32mreturn\u001b[0m \u001b[0mtime\u001b[0m\u001b[0;34m.\u001b[0m\u001b[0mtime\u001b[0m\u001b[0;34m(\u001b[0m\u001b[0;34m)\u001b[0m \u001b[0;34m-\u001b[0m \u001b[0mstart_time\u001b[0m\u001b[0;34m\u001b[0m\u001b[0m\n\u001b[1;32m      6\u001b[0m \u001b[0;34m\u001b[0m\u001b[0m\n",
      "\u001b[0;32m<ipython-input-75-d1634b05e8a9>\u001b[0m in \u001b[0;36morder_crossover_lst\u001b[0;34m(parent1, parent2)\u001b[0m\n\u001b[1;32m      7\u001b[0m \u001b[0;32mdef\u001b[0m \u001b[0morder_crossover_lst\u001b[0m\u001b[0;34m(\u001b[0m\u001b[0mparent1\u001b[0m\u001b[0;34m,\u001b[0m \u001b[0mparent2\u001b[0m\u001b[0;34m)\u001b[0m\u001b[0;34m:\u001b[0m\u001b[0;34m\u001b[0m\u001b[0m\n\u001b[1;32m      8\u001b[0m     \u001b[0;31m# Makes the offspring from the selected sub-sequence, and all the elements not in that sub-sequence.\u001b[0m\u001b[0;34m\u001b[0m\u001b[0;34m\u001b[0m\u001b[0m\n\u001b[0;32m----> 9\u001b[0;31m     \u001b[0moffspring1\u001b[0m \u001b[0;34m=\u001b[0m \u001b[0mparent1\u001b[0m\u001b[0;34m[\u001b[0m\u001b[0;34m:\u001b[0m\u001b[0mp1\u001b[0m\u001b[0;34m]\u001b[0m \u001b[0;34m+\u001b[0m \u001b[0;34m[\u001b[0m\u001b[0mx\u001b[0m \u001b[0;32mfor\u001b[0m \u001b[0mx\u001b[0m \u001b[0;32min\u001b[0m \u001b[0mparent2\u001b[0m\u001b[0;34m[\u001b[0m\u001b[0mp1\u001b[0m\u001b[0;34m:\u001b[0m\u001b[0;34m]\u001b[0m \u001b[0;34m+\u001b[0m \u001b[0mparent2\u001b[0m\u001b[0;34m[\u001b[0m\u001b[0;34m:\u001b[0m\u001b[0mp1\u001b[0m\u001b[0;34m]\u001b[0m \u001b[0;32mif\u001b[0m \u001b[0mx\u001b[0m \u001b[0;32mnot\u001b[0m \u001b[0;32min\u001b[0m \u001b[0mset\u001b[0m\u001b[0;34m(\u001b[0m\u001b[0mparent1\u001b[0m\u001b[0;34m[\u001b[0m\u001b[0;34m:\u001b[0m\u001b[0mp1\u001b[0m\u001b[0;34m]\u001b[0m\u001b[0;34m)\u001b[0m\u001b[0;34m]\u001b[0m\u001b[0;34m\u001b[0m\u001b[0m\n\u001b[0m\u001b[1;32m     10\u001b[0m     \u001b[0moffspring2\u001b[0m \u001b[0;34m=\u001b[0m \u001b[0mparent2\u001b[0m\u001b[0;34m[\u001b[0m\u001b[0;34m:\u001b[0m\u001b[0mp1\u001b[0m\u001b[0;34m]\u001b[0m \u001b[0;34m+\u001b[0m \u001b[0;34m[\u001b[0m\u001b[0mx\u001b[0m \u001b[0;32mfor\u001b[0m \u001b[0mx\u001b[0m \u001b[0;32min\u001b[0m \u001b[0mparent1\u001b[0m\u001b[0;34m[\u001b[0m\u001b[0mp1\u001b[0m\u001b[0;34m:\u001b[0m\u001b[0;34m]\u001b[0m \u001b[0;34m+\u001b[0m \u001b[0mparent1\u001b[0m\u001b[0;34m[\u001b[0m\u001b[0;34m:\u001b[0m\u001b[0mp1\u001b[0m\u001b[0;34m]\u001b[0m \u001b[0;32mif\u001b[0m \u001b[0mx\u001b[0m \u001b[0;32mnot\u001b[0m \u001b[0;32min\u001b[0m \u001b[0mset\u001b[0m\u001b[0;34m(\u001b[0m\u001b[0mparent2\u001b[0m\u001b[0;34m[\u001b[0m\u001b[0;34m:\u001b[0m\u001b[0mp1\u001b[0m\u001b[0;34m]\u001b[0m\u001b[0;34m)\u001b[0m\u001b[0;34m]\u001b[0m\u001b[0;34m\u001b[0m\u001b[0m\n\u001b[1;32m     11\u001b[0m     \u001b[0;32mreturn\u001b[0m \u001b[0moffspring1\u001b[0m\u001b[0;34m,\u001b[0m \u001b[0moffspring2\u001b[0m\u001b[0;34m\u001b[0m\u001b[0m\n",
      "\u001b[0;31mNameError\u001b[0m: name 'p1' is not defined"
     ]
    }
   ],
   "source": [
    "times = compare(test_count, alternations,\n",
    "                order_crossover_lst, [lst_individual(genome_length), lst_individual(genome_length)],\n",
    "                order_crossover_arr, [arr_individual(genome_length), arr_individual(genome_length)]\n",
    "               )\n",
    "\n",
    "print_times(\"List\", times[0], \"Array\", times[1])"
   ]
  },
  {
   "cell_type": "code",
   "execution_count": null,
   "metadata": {},
   "outputs": [],
   "source": []
  }
 ],
 "metadata": {
  "kernelspec": {
   "display_name": "Python 3",
   "language": "python",
   "name": "python3"
  },
  "language_info": {
   "codemirror_mode": {
    "name": "ipython",
    "version": 3
   },
   "file_extension": ".py",
   "mimetype": "text/x-python",
   "name": "python",
   "nbconvert_exporter": "python",
   "pygments_lexer": "ipython3",
   "version": "3.5.3"
  }
 },
 "nbformat": 4,
 "nbformat_minor": 2
}
