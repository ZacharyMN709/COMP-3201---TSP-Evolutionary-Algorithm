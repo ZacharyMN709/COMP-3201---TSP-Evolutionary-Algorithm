{
 "cells": [
  {
   "cell_type": "markdown",
   "metadata": {},
   "source": [
    "# H.E.R.M.E.S."
   ]
  },
  {
   "cell_type": "markdown",
   "metadata": {},
   "source": [
    "# Heuristic Enabled Rapid Modular Evolutionary Search"
   ]
  },
  {
   "cell_type": "markdown",
   "metadata": {},
   "source": [
    "## Set-up"
   ]
  },
  {
   "cell_type": "markdown",
   "metadata": {},
   "source": [
    "### Notebook Set-up"
   ]
  },
  {
   "cell_type": "code",
   "execution_count": 1,
   "metadata": {},
   "outputs": [],
   "source": [
    "# Setup base directory\n",
    "import os\n",
    "import os.path\n",
    "import sys\n",
    "sys.path.append(os.path.join(os.getcwd(), '../..'))\n",
    "\n",
    "import json"
   ]
  },
  {
   "cell_type": "markdown",
   "metadata": {},
   "source": [
    "### Imports"
   ]
  },
  {
   "cell_type": "code",
   "execution_count": 2,
   "metadata": {},
   "outputs": [],
   "source": [
    "from src.EACore.EAVarHelper import EAVarHelper\n",
    "from src.EACore.EARunner import EARunner\n",
    "from src.Setups.TSP.FileLoader import LoadHelper\n",
    "from src.Setups.TSP.EAFactory import EAFactory\n",
    "from src.Setups.TSP.PopulationInitialization import PopulationInitializationGenerator\n",
    "from src.Setups.TSP.FitnessEvaluator import FitnessHelperGenerator\n",
    "from src.Setups.TSP.Inputs.Optimums import get_best_path"
   ]
  },
  {
   "cell_type": "markdown",
   "metadata": {},
   "source": [
    "### Configuration"
   ]
  },
  {
   "cell_type": "markdown",
   "metadata": {},
   "source": [
    "#### Global Variables"
   ]
  },
  {
   "cell_type": "markdown",
   "metadata": {},
   "source": [
    " - `maximization`: Where the problem is a maximization or a minimization problem\n",
    " - `test_all`: Whether to use the methods provided, or to iteratively test every combination of methods\n",
    " - `methods`: Determines which method will be used for each part of the algorithm\n",
    " - `use_db`: Whether or not to save results to an SQLite3 database\n",
    " - `db_name`: Filename for SQLite3 database (if use_db is true)\n",
    " - `print_stats`: Whether or not to print results to the console as they are produced\n",
    " - `generation_limit`: The number of generations that the algorithm runs for\n",
    " - `report_rate`: The number of generations to run between displaying and outputting stats\n",
    " - `runs`: The number of times to run the algorithm\n",
    " - `data_set`: The input data to use (0: Sahara, 1: Uruguay, 2: Canada)\n",
    " - `data_type`: The data structure to use for storing individuals (0: Lists, 1: Numpy Arrays, 2: C Arrays)"
   ]
  },
  {
   "cell_type": "markdown",
   "metadata": {},
   "source": [
    "#### Modular Function Definitions"
   ]
  },
  {
   "cell_type": "markdown",
   "metadata": {},
   "source": [
    "The `EACore` is module which contains the class `EARunner`. This is a general shell that is designed to handle many different problems, and is not limited to the Travelling Salesperson Problem. To solve a different problem, you need to provide a new population initialization method, a new fitness evaluation method, and a data set. Other methods are problem agnostic.\n",
    "\n",
    "The methods used by the algorithm are determined by the `methods` list provided in the configuration file. Here is a table of the functions you can choose from.\n",
    "\n",
    "**Fitness Evaluation**  \n",
    "0: Euclidean  \n",
    "\n",
    "**Population Initialization**  \n",
    "0: Random  \n",
    "1: Cluster  \n",
    "2: Euler  \n",
    "\n",
    "**Parent Selection**  \n",
    "0: MPS  \n",
    "1: Tournament Selection  \n",
    "2: Random Selection\n",
    "\n",
    "**Recombination**  \n",
    "0: Order Crossover  \n",
    "1: PMX Crossover  \n",
    "\n",
    "**Mutation**  \n",
    "0: Swap  \n",
    "1: Insert  \n",
    "2: Inversion  \n",
    "3: Shift  \n",
    "\n",
    "**Survivor Selection**  \n",
    "0: Mu + Lambda  \n",
    "1: Replacement  \n",
    "\n",
    "**Population Management**  \n",
    "0: None  \n",
    "1: Metalleurgic Annealing  \n",
    "2: Entropic Stabilizing  \n",
    "3: Ouroboric Culling  \n",
    "4: Genetic Engineering  "
   ]
  },
  {
   "cell_type": "code",
   "execution_count": 3,
   "metadata": {
    "scrolled": false
   },
   "outputs": [],
   "source": [
    "config_json = \"\"\"{\n",
    "    \"maximization\": false,\n",
    "    \"test_all\": false,\n",
    "    \"methods\": [0, 2, 1, 1, 2, 0, 4],\n",
    "    \"use_db\": false,\n",
    "    \"print_stats\": true,\n",
    "    \"db_name\": \"stats.db\",\n",
    "    \"generation_limit\": 5000,\n",
    "    \"report_rate\": 1000,\n",
    "    \"runs\": 1,\n",
    "    \"data_set\": 2,\n",
    "    \"data_type\": 2\n",
    "}\"\"\"\n",
    "\n",
    "config = json.loads(config_json)"
   ]
  },
  {
   "cell_type": "markdown",
   "metadata": {},
   "source": [
    "### Create EA Runner"
   ]
  },
  {
   "cell_type": "code",
   "execution_count": 4,
   "metadata": {},
   "outputs": [],
   "source": [
    "factory = EAFactory(config[\"data_set\"], config[\"maximization\"])\n",
    "ea = factory.make_ea_runner(config[\"data_type\"], config[\"methods\"])"
   ]
  },
  {
   "cell_type": "markdown",
   "metadata": {},
   "source": [
    "With all imports and object initializations out of the way, we can run the EA with a single function call: `run()`\n",
    "\n",
    "`run()` takes in a few arguments, the only non-optional one being the `generation_limit`. The other arguments are for hw often a generation summary should be printed, the best fitness found, whether that fitness is the true optimum, and a mute boolean, for if the EA is being multi-threaded (so the outputs don't clash and clutter the terminal).\n",
    "\n",
    "`run()` returns the best fitnees found, the idividuals with that fitness, the generation it ended on (in case of early convergence), a history of best individuals over the generations, and a tuple with the results of clocking the functions."
   ]
  },
  {
   "cell_type": "code",
   "execution_count": 5,
   "metadata": {},
   "outputs": [
    {
     "name": "stdout",
     "output_type": "stream",
     "text": [
      "Population initialization:   Euler                    Parent selection:            Tourney                  \n",
      "Recombination Method:        PMX Crossover            Mutation Method:             Inversion                \n",
      "Survivor selection:          Mu + Lambda              Management Method:           Engineering              \n",
      "Loaded: TSP_Uruguay_MST.txt\n",
      "Generation: 1000\n",
      "  Best fitness: 103275.95994813472\n",
      "  Avg. fitness: 103275.95994813464\n",
      "  Copies of Best: 60\n",
      "Generation: 2000\n",
      "  Best fitness: 102401.07556411297\n",
      "  Avg. fitness: 102401.07556411282\n",
      "  Copies of Best: 60\n",
      "Generation: 3000\n",
      "  Best fitness: 102049.60807013858\n",
      "  Avg. fitness: 102049.6080701386\n",
      "  Copies of Best: 60\n",
      "Generation: 4000\n",
      "  Best fitness: 101304.7742155538\n",
      "  Avg. fitness: 101304.77421555386\n",
      "  Copies of Best: 60\n",
      "Generation: 5000\n",
      "  Best fitness: 100580.63304406664\n",
      "  Avg. fitness: 100580.63304406677\n",
      "  Copies of Best: 60\n",
      "Best solution fitness: 100580.63304406664\n",
      "Number of optimal solutions:  60 / 60\n",
      "Best solution indexes: [0, 1, 2, 3, 4, 5, 6, 7, 8, 9, 10, 11, 12, 13, 14, 15, 16, 17, 18, 19, 20, 21, 22, 23, 24, 25, 26, 27, 28, 29, 30, 31, 32, 33, 34, 35, 36, 37, 38, 39, 40, 41, 42, 43, 44, 45, 46, 47, 48, 49, 50, 51, 52, 53, 54, 55, 56, 57, 58, 59]\n",
      "Best solution path: array('i', [407, 409, 415, 421, 580, 561, 541, 555, 556, 559, 570, 577, 599, 600, 610, 583, 616, 611, 588, 579, 589, 571, 601, 629, 612, 584, 575, 521, 518, 519, 514, 500, 480, 482, 472, 462, 420, 378, 448, 454, 471, 459, 401, 411, 442, 425, 371, 374, 356, 313, 325, 324, 288, 280, 255, 246, 256, 270, 247, 241, 239, 228, 208, 181, 180, 132, 117, 109, 92, 83, 76, 46, 45, 44, 35, 24, 10, 5, 2, 0, 15, 17, 21, 26, 78, 84, 79, 80, 85, 90, 114, 126, 108, 191, 214, 168, 164, 161, 179, 189, 190, 194, 211, 195, 186, 169, 170, 183, 212, 245, 262, 269, 261, 236, 252, 291, 244, 207, 265, 264, 260, 251, 267, 271, 279, 300, 331, 367, 363, 339, 335, 329, 304, 276, 266, 283, 273, 243, 242, 250, 238, 230, 226, 219, 223, 234, 232, 229, 206, 198, 185, 199, 149, 158, 175, 177, 166, 178, 167, 162, 160, 156, 141, 139, 150, 146, 142, 124, 131, 133, 136, 130, 118, 111, 107, 112, 103, 70, 19, 28, 30, 50, 42, 38, 22, 23, 6, 1, 4, 3, 7, 8, 13, 12, 11, 14, 9, 16, 18, 20, 25, 27, 33, 39, 91, 97, 82, 94, 99, 65, 55, 52, 53, 62, 66, 57, 67, 75, 74, 73, 104, 72, 71, 49, 43, 40, 122, 123, 120, 119, 125, 68, 59, 54, 37, 41, 48, 64, 36, 32, 29, 31, 34, 47, 51, 58, 60, 87, 56, 61, 69, 88, 89, 106, 110, 113, 116, 96, 81, 63, 77, 86, 98, 102, 95, 129, 134, 148, 153, 152, 173, 182, 193, 218, 222, 217, 216, 210, 201, 172, 176, 200, 197, 151, 147, 144, 140, 128, 127, 115, 101, 100, 93, 105, 121, 137, 145, 257, 213, 187, 184, 163, 143, 135, 157, 171, 192, 196, 205, 215, 221, 227, 203, 209, 220, 248, 278, 277, 284, 292, 296, 301, 317, 308, 318, 467, 466, 494, 460, 463, 451, 439, 414, 402, 357, 360, 387, 392, 384, 395, 396, 406, 397, 381, 398, 403, 393, 390, 349, 353, 366, 365, 361, 348, 326, 314, 302, 281, 249, 253, 274, 306, 319, 307, 282, 285, 355, 332, 310, 298, 289, 286, 287, 258, 254, 237, 272, 303, 259, 231, 224, 188, 290, 309, 322, 333, 340, 354, 343, 358, 372, 362, 379, 376, 375, 388, 408, 419, 428, 427, 444, 468, 473, 495, 527, 553, 546, 531, 523, 565, 633, 666, 651, 470, 424, 443, 455, 426, 465, 481, 515, 530, 539, 552, 545, 544, 548, 592, 607, 593, 564, 594, 416, 382, 404, 405, 429, 432, 430, 436, 456, 476, 504, 501, 486, 440, 346, 350, 341, 315, 323, 320, 344, 345, 334, 370, 369, 377, 399, 449, 433, 431, 422, 412, 413, 385, 368, 359, 338, 327, 328, 299, 297, 275, 263, 240, 225, 202, 165, 174, 154, 138, 155, 159, 204, 233, 235, 293, 305, 342, 311, 294, 268, 295, 316, 312, 321, 336, 337, 347, 352, 373, 383, 351, 330, 364, 380, 410, 389, 391, 437, 438, 447, 450, 445, 446, 458, 452, 423, 394, 400, 386, 418, 508, 512, 517, 526, 543, 538, 542, 550, 558, 522, 498, 497, 534, 536, 507, 492, 478, 464, 453, 461, 469, 479, 484, 493, 499, 489, 475, 503, 511, 516, 525, 535, 557, 590, 613, 622, 632, 617, 621, 631, 620, 566, 574, 578, 513, 488, 491, 487, 502, 510, 547, 563, 576, 664, 670, 663, 662, 658, 649, 641, 636, 606, 585, 587, 603, 609, 615, 618, 623, 642, 639, 630, 614, 605, 608, 604, 628, 643, 650, 665, 671, 677, 684, 687, 694, 700, 703, 707, 719, 718, 727, 717, 712, 709, 701, 681, 673, 653, 659, 668, 676, 672, 661, 648, 647, 655, 669, 679, 688, 683, 675, 602, 568, 567, 595, 640, 660, 667, 678, 692, 733, 722, 711, 691, 723, 693, 682, 674, 652, 638, 634, 635, 582, 596, 581, 490, 483, 505, 509, 528, 520, 524, 549, 560, 586, 597, 625, 646, 656, 680, 685, 689, 698, 697, 699, 705, 710, 715, 721, 702, 706, 713, 716, 724, 725, 726, 731, 732, 728, 729, 730, 720, 714, 708, 704, 695, 696, 690, 686, 657, 654, 645, 644, 627, 626, 624, 637, 619, 573, 562, 569, 598, 591, 572, 551, 540, 533, 532, 554, 537, 529, 506, 485, 496, 477, 474, 457, 434, 441, 435, 417])\n",
      "PITime = 2.32,  PSMTime = 1.24,  RMTime = 4.48,  MMTime = 15.84,  SSMTime = 0.13,  PMMTime = 366.72\n",
      "Func time: 388.41     Total time: 390.77\n",
      "--- 390.76635584700125 seconds ---\n"
     ]
    }
   ],
   "source": [
    "ea.run(config[\"generation_limit\"], print_stats=config[\"print_stats\"], report_rate=config[\"report_rate\"])\n",
    "pass"
   ]
  },
  {
   "cell_type": "markdown",
   "metadata": {},
   "source": [
    "### Configure Parameters"
   ]
  },
  {
   "cell_type": "markdown",
   "metadata": {},
   "source": [
    "Parameters can be changed between runs. Parameters are stored in `ea.vars`. Here I will demonstrate increasing the population threshold (the number of copies of the best individual that may exist before population management begins replacing them), and the mutation rate to increase diversity."
   ]
  },
  {
   "cell_type": "code",
   "execution_count": 6,
   "metadata": {},
   "outputs": [
    {
     "name": "stdout",
     "output_type": "stream",
     "text": [
      "Population initialization:   Euler                    Parent selection:            Tourney                  \n",
      "Recombination Method:        PMX Crossover            Mutation Method:             Inversion                \n",
      "Survivor selection:          Mu + Lambda              Management Method:           Engineering              \n",
      "Generation: 1000\n",
      "  Best fitness: 101603.29159115907\n",
      "  Avg. fitness: 101603.29159115907\n",
      "  Copies of Best: 60\n",
      "Generation: 2000\n",
      "  Best fitness: 100374.69963633735\n",
      "  Avg. fitness: 100374.69963633735\n",
      "  Copies of Best: 60\n",
      "Generation: 3000\n",
      "  Best fitness: 97935.8031847623\n",
      "  Avg. fitness: 97935.80318476235\n",
      "  Copies of Best: 60\n",
      "Generation: 4000\n",
      "  Best fitness: 97312.12319538763\n",
      "  Avg. fitness: 97312.1231953875\n",
      "  Copies of Best: 60\n",
      "Generation: 5000\n",
      "  Best fitness: 95885.9852284485\n",
      "  Avg. fitness: 95885.98522844845\n",
      "  Copies of Best: 60\n",
      "Best solution fitness: 95885.9852284485\n",
      "Number of optimal solutions:  60 / 60\n",
      "Best solution indexes: [0, 1, 2, 3, 4, 5, 6, 7, 8, 9, 10, 11, 12, 13, 14, 15, 16, 17, 18, 19, 20, 21, 22, 23, 24, 25, 26, 27, 28, 29, 30, 31, 32, 33, 34, 35, 36, 37, 38, 39, 40, 41, 42, 43, 44, 45, 46, 47, 48, 49, 50, 51, 52, 53, 54, 55, 56, 57, 58, 59]\n",
      "Best solution path: array('i', [457, 561, 541, 555, 556, 513, 488, 491, 487, 502, 510, 485, 506, 529, 532, 533, 540, 551, 572, 591, 598, 569, 554, 537, 562, 573, 619, 637, 624, 626, 627, 643, 650, 665, 671, 677, 684, 687, 694, 700, 703, 707, 719, 718, 709, 712, 717, 727, 728, 732, 731, 726, 725, 724, 721, 715, 710, 705, 698, 681, 668, 676, 672, 661, 648, 688, 679, 683, 669, 625, 597, 586, 560, 549, 524, 520, 490, 483, 505, 509, 528, 582, 596, 581, 568, 567, 595, 602, 640, 660, 667, 678, 692, 691, 711, 722, 733, 723, 693, 682, 674, 675, 655, 652, 638, 634, 635, 647, 646, 656, 659, 653, 673, 680, 685, 689, 697, 699, 702, 701, 706, 713, 716, 729, 730, 720, 714, 708, 704, 695, 696, 690, 686, 657, 654, 645, 644, 628, 604, 608, 605, 614, 630, 639, 642, 623, 618, 615, 609, 603, 587, 580, 570, 559, 577, 599, 600, 610, 583, 588, 616, 611, 579, 589, 571, 601, 629, 631, 621, 617, 550, 542, 538, 558, 535, 522, 536, 534, 497, 498, 507, 492, 484, 493, 499, 489, 479, 478, 464, 469, 461, 453, 386, 371, 400, 394, 423, 452, 458, 446, 445, 450, 447, 438, 437, 391, 389, 410, 364, 330, 351, 380, 383, 373, 352, 347, 337, 336, 321, 312, 316, 295, 294, 268, 236, 252, 293, 311, 342, 305, 300, 331, 367, 363, 339, 335, 329, 283, 273, 243, 242, 250, 238, 230, 226, 219, 223, 234, 232, 229, 206, 198, 185, 199, 158, 149, 154, 174, 165, 138, 105, 93, 100, 101, 121, 137, 145, 224, 231, 225, 202, 188, 240, 263, 290, 309, 322, 333, 323, 315, 297, 299, 328, 327, 338, 344, 345, 334, 370, 377, 399, 422, 431, 449, 433, 412, 413, 385, 369, 368, 359, 320, 341, 350, 362, 346, 379, 376, 375, 388, 408, 419, 428, 427, 468, 444, 424, 443, 455, 426, 465, 481, 515, 530, 539, 552, 545, 544, 548, 592, 607, 593, 564, 594, 666, 651, 633, 565, 523, 470, 531, 546, 553, 527, 495, 473, 486, 501, 504, 476, 456, 436, 430, 432, 405, 404, 416, 429, 440, 382, 372, 358, 343, 354, 340, 303, 275, 272, 259, 237, 254, 258, 287, 286, 289, 298, 310, 332, 355, 319, 306, 307, 285, 282, 274, 253, 249, 281, 302, 314, 326, 348, 361, 365, 366, 353, 349, 390, 393, 403, 398, 381, 397, 406, 396, 395, 384, 392, 387, 360, 357, 402, 414, 439, 451, 463, 460, 467, 494, 466, 318, 308, 317, 301, 296, 292, 284, 277, 278, 248, 220, 209, 203, 227, 221, 215, 213, 187, 184, 171, 157, 163, 143, 135, 192, 196, 205, 257, 197, 200, 176, 151, 147, 144, 140, 128, 115, 127, 172, 201, 210, 216, 217, 222, 218, 193, 182, 173, 152, 153, 148, 134, 129, 95, 102, 98, 86, 77, 63, 81, 96, 116, 113, 110, 106, 87, 60, 58, 47, 34, 31, 29, 32, 36, 51, 56, 61, 69, 88, 89, 64, 48, 41, 54, 59, 91, 97, 125, 119, 120, 123, 122, 104, 75, 67, 57, 66, 74, 73, 62, 53, 49, 43, 40, 52, 72, 71, 55, 65, 99, 94, 82, 68, 50, 42, 38, 39, 33, 27, 25, 20, 18, 16, 9, 14, 11, 12, 13, 8, 7, 3, 4, 1, 6, 23, 22, 19, 28, 30, 37, 70, 103, 112, 107, 111, 118, 130, 136, 155, 159, 175, 177, 166, 178, 167, 162, 160, 156, 141, 139, 133, 131, 124, 150, 142, 146, 204, 233, 235, 266, 276, 304, 279, 271, 267, 251, 260, 264, 265, 207, 244, 291, 261, 269, 262, 280, 255, 246, 256, 270, 247, 241, 239, 228, 208, 181, 180, 132, 117, 109, 45, 44, 35, 24, 21, 10, 5, 2, 0, 15, 17, 26, 46, 76, 92, 83, 84, 78, 79, 80, 85, 90, 114, 126, 108, 169, 170, 183, 186, 168, 164, 161, 179, 189, 190, 194, 211, 195, 191, 214, 212, 245, 288, 324, 325, 313, 356, 374, 418, 425, 442, 411, 401, 459, 471, 454, 448, 378, 420, 462, 472, 482, 480, 500, 514, 519, 518, 521, 543, 526, 517, 512, 508, 475, 503, 511, 516, 525, 557, 575, 584, 590, 613, 622, 632, 612, 620, 566, 574, 578, 576, 606, 636, 641, 649, 664, 670, 663, 662, 658, 585, 563, 547, 496, 477, 474, 434, 407, 417, 409, 415, 421, 435, 441])\n",
      "PITime = 2.13,  PSMTime = 1.31,  RMTime = 6.12,  MMTime = 17.33,  SSMTime = 0.15,  PMMTime = 306.54\n",
      "Func time: 331.46     Total time: 333.63\n",
      "--- 333.62956233099976 seconds ---\n"
     ]
    }
   ],
   "source": [
    "ea.vars.set_population_threshold_by_percent(0.70)\n",
    "ea.vars.mutation_rate = 0.60\n",
    "ea.run(config[\"generation_limit\"], print_stats=config[\"print_stats\"], report_rate=config[\"report_rate\"])\n",
    "pass"
   ]
  },
  {
   "cell_type": "code",
   "execution_count": null,
   "metadata": {},
   "outputs": [],
   "source": []
  }
 ],
 "metadata": {
  "kernelspec": {
   "display_name": "Python 3",
   "language": "python",
   "name": "python3"
  },
  "language_info": {
   "codemirror_mode": {
    "name": "ipython",
    "version": 3
   },
   "file_extension": ".py",
   "mimetype": "text/x-python",
   "name": "python",
   "nbconvert_exporter": "python",
   "pygments_lexer": "ipython3",
   "version": "3.6.7"
  }
 },
 "nbformat": 4,
 "nbformat_minor": 2
}
