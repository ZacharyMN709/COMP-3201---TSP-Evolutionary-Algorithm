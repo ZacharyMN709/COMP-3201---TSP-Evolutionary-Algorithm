{
 "cells": [
  {
   "cell_type": "markdown",
   "metadata": {},
   "source": [
    "# H.E.R.M.E.S."
   ]
  },
  {
   "cell_type": "markdown",
   "metadata": {},
   "source": [
    "# Heuristic Enabled Rapid Modular Evolutionary Search"
   ]
  },
  {
   "cell_type": "markdown",
   "metadata": {},
   "source": [
    "## Set-up"
   ]
  },
  {
   "cell_type": "markdown",
   "metadata": {},
   "source": [
    "### Notebook Set-up"
   ]
  },
  {
   "cell_type": "code",
   "execution_count": 1,
   "metadata": {},
   "outputs": [],
   "source": [
    "# Setup base directory\n",
    "import os\n",
    "import os.path\n",
    "import sys\n",
    "sys.path.append(os.path.join(os.getcwd(), '../..'))\n",
    "\n",
    "import json"
   ]
  },
  {
   "cell_type": "markdown",
   "metadata": {},
   "source": [
    "### Imports"
   ]
  },
  {
   "cell_type": "code",
   "execution_count": 2,
   "metadata": {},
   "outputs": [],
   "source": [
    "from src.EACore.EAVarHelper import EAVarHelper\n",
    "from src.EACore.EARunner import EARunner\n",
    "from src.Setups.TSP.FileLoader import LoadHelper\n",
    "from src.Setups.TSP.EAFactory import EAFactory\n",
    "from src.Setups.TSP.PopulationInitialization import PopulationInitializationGenerator\n",
    "from src.Setups.TSP.FitnessEvaluator import FitnessHelperGenerator\n",
    "from src.Setups.TSP.Inputs.Optimums import get_best_path"
   ]
  },
  {
   "cell_type": "markdown",
   "metadata": {},
   "source": [
    "### Configuration"
   ]
  },
  {
   "cell_type": "markdown",
   "metadata": {},
   "source": [
    "#### Global Variables"
   ]
  },
  {
   "cell_type": "markdown",
   "metadata": {},
   "source": [
    " - `maximization`: Where the problem is a maximization or a minimization problem\n",
    " - `test_all`: Whether to use the methods provided, or to iteratively test every combination of methods\n",
    " - `methods`: Determines which method will be used for each part of the algorithm\n",
    " - `use_db`: Whether or not to save results to an SQLite3 database\n",
    " - `db_name`: Filename for SQLite3 database (if use_db is true)\n",
    " - `print_stats`: Whether or not to print results to the console as they are produced\n",
    " - `generation_limit`: The number of generations that the algorithm runs for\n",
    " - `report_rate`: The number of generations to run between displaying and outputting stats\n",
    " - `runs`: The number of times to run the algorithm\n",
    " - `data_set`: The input data to use (0: Sahara, 1: Uruguay, 2: Canada)\n",
    " - `data_type`: The data structure to use for storing individuals (0: Lists, 1: Numpy Arrays, 2: C Arrays)"
   ]
  },
  {
   "cell_type": "markdown",
   "metadata": {},
   "source": [
    "#### Modular Function Definitions"
   ]
  },
  {
   "cell_type": "markdown",
   "metadata": {},
   "source": [
    "The `EACore` is module which contains the class `EARunner`. This is a general shell that is designed to handle many different problems, and is not limited to the Travelling Salesperson Problem. To solve a different problem, you need to provide a new population initialization method, a new fitness evaluation method, and a data set. Other methods are problem agnostic.\n",
    "\n",
    "The methods used by the algorithm are determined by the `methods` list provided in the configuration file. Here is a table of the functions you can choose from.\n",
    "\n",
    "**Fitness Evaluation**  \n",
    "0: Euclidean  \n",
    "\n",
    "**Population Initialization**  \n",
    "0: Random  \n",
    "1: Cluster  \n",
    "2: Euler  \n",
    "\n",
    "**Parent Selection**  \n",
    "0: MPS  \n",
    "1: Tournament Selection  \n",
    "2: Random Selection\n",
    "\n",
    "**Recombination**  \n",
    "0: Order Crossover  \n",
    "1: PMX Crossover  \n",
    "\n",
    "**Mutation**  \n",
    "0: Swap  \n",
    "1: Insert  \n",
    "2: Inversion  \n",
    "3: Shift  \n",
    "\n",
    "**Survivor Selection**  \n",
    "0: Mu + Lambda  \n",
    "1: Replacement  \n",
    "\n",
    "**Population Management**  \n",
    "0: None  \n",
    "1: Metalleurgic Annealing  \n",
    "2: Entropic Stabilizing  \n",
    "3: Ouroboric Culling  \n",
    "4: Genetic Engineering  "
   ]
  },
  {
   "cell_type": "code",
   "execution_count": 3,
   "metadata": {
    "scrolled": false
   },
   "outputs": [],
   "source": [
    "config_json = \"\"\"{\n",
    "    \"maximization\": false,\n",
    "    \"test_all\": false,\n",
    "    \"methods\": [0, 2, 1, 1, 2, 0, 4],\n",
    "    \"use_db\": false,\n",
    "    \"print_stats\": true,\n",
    "    \"db_name\": \"stats.db\",\n",
    "    \"generation_limit\": 5000,\n",
    "    \"report_rate\": 1000,\n",
    "    \"runs\": 1,\n",
    "    \"data_set\": 2,\n",
    "    \"data_type\": 2\n",
    "}\"\"\"\n",
    "\n",
    "config = json.loads(config_json)"
   ]
  },
  {
   "cell_type": "markdown",
   "metadata": {},
   "source": [
    "### Create EA Runner"
   ]
  },
  {
   "cell_type": "code",
   "execution_count": null,
   "metadata": {},
   "outputs": [],
   "source": [
    "factory = EAFactory(config[\"data_set\"], config[\"maximization\"])\n",
    "ea = factory.make_ea_runner(config[\"data_type\"], config[\"methods\"])"
   ]
  },
  {
   "cell_type": "markdown",
   "metadata": {},
   "source": [
    "With all imports and object initializations out of the way, we can run the EA with a single function call: `run()`\n",
    "\n",
    "`run()` takes in a few arguments, the only non-optional one being the `generation_limit`. The other arguments are for hw often a generation summary should be printed, the best fitness found, whether that fitness is the true optimum, and a mute boolean, for if the EA is being multi-threaded (so the outputs don't clash and clutter the terminal).\n",
    "\n",
    "`run()` returns the best fitnees found, the idividuals with that fitness, the generation it ended on (in case of early convergence), a history of best individuals over the generations, and a tuple with the results of clocking the functions."
   ]
  },
  {
   "cell_type": "code",
   "execution_count": null,
   "metadata": {},
   "outputs": [
    {
     "name": "stdout",
     "output_type": "stream",
     "text": [
      "Population initialization:   Euler                    Parent selection:            Tourney                  \n",
      "Recombination Method:        PMX Crossover            Mutation Method:             Inversion                \n",
      "Survivor selection:          Mu + Lambda              Management Method:           Engineering              \n",
      "Loaded: TSP_Uruguay_MST.txt\n",
      "Generation: 1000\n",
      "  Best fitness: 103275.95994813472\n",
      "  Avg. fitness: 103275.95994813464\n",
      "  Copies of Best: 60\n",
      "Generation: 2000\n",
      "  Best fitness: 102401.07556411297\n",
      "  Avg. fitness: 102401.07556411282\n",
      "  Copies of Best: 60\n",
      "Generation: 3000\n",
      "  Best fitness: 102049.60807013858\n",
      "  Avg. fitness: 102049.6080701386\n",
      "  Copies of Best: 60\n"
     ]
    }
   ],
   "source": [
    "ea.run(config[\"generation_limit\"], print_stats=config[\"print_stats\"], report_rate=config[\"report_rate\"])\n",
    "pass"
   ]
  },
  {
   "cell_type": "markdown",
   "metadata": {},
   "source": [
    "### Configure Parameters"
   ]
  },
  {
   "cell_type": "markdown",
   "metadata": {},
   "source": [
    "Parameters can be changed between runs. Parameters are stored in `ea.vars`. Here I will demonstrate increasing the population threshold (the number of copies of the best individual that may exist before population management begins replacing them), and the mutation rate to increase diversity."
   ]
  },
  {
   "cell_type": "code",
   "execution_count": null,
   "metadata": {},
   "outputs": [],
   "source": [
    "ea.vars.set_population_threshold_by_percent(0.70)\n",
    "ea.vars.mutation_rate = 0.60\n",
    "ea.run(config[\"generation_limit\"], print_stats=config[\"print_stats\"], report_rate=config[\"report_rate\"])\n",
    "pass"
   ]
  },
  {
   "cell_type": "code",
   "execution_count": null,
   "metadata": {},
   "outputs": [],
   "source": []
  }
 ],
 "metadata": {
  "kernelspec": {
   "display_name": "Python 3",
   "language": "python",
   "name": "python3"
  },
  "language_info": {
   "codemirror_mode": {
    "name": "ipython",
    "version": 3
   },
   "file_extension": ".py",
   "mimetype": "text/x-python",
   "name": "python",
   "nbconvert_exporter": "python",
   "pygments_lexer": "ipython3",
   "version": "3.6.7"
  }
 },
 "nbformat": 4,
 "nbformat_minor": 2
}
