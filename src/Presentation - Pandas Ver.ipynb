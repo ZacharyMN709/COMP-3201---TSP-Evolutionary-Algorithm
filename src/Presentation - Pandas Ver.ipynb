{
 "cells": [
  {
   "cell_type": "markdown",
   "metadata": {},
   "source": [
    "# Evolutionary Algorithm"
   ]
  },
  {
   "cell_type": "markdown",
   "metadata": {},
   "source": [
    "## Jupyter Housekeeping"
   ]
  },
  {
   "cell_type": "code",
   "execution_count": null,
   "metadata": {},
   "outputs": [],
   "source": [
    "import os\n",
    "import sys\n",
    "print(\"Present working directory:\", os.getcwd())\n",
    "\n",
    "def go_to_project_root():\n",
    "    path = os.path.join(os.getcwd(), '..')\n",
    "    print(path)\n",
    "    sys.path.append(path)\n",
    "    os.chdir(path)\n",
    "    print(\"Present working directory:\", os.getcwd())\n",
    "    \n",
    "go_to_project_root()"
   ]
  },
  {
   "cell_type": "code",
   "execution_count": null,
   "metadata": {},
   "outputs": [],
   "source": [
    "import matplotlib.pyplot as plt\n",
    "from matplotlib.backends.backend_agg import FigureCanvasAgg as FigureCanvas\n",
    "from matplotlib.figure import Figure as Figure\n",
    "import seaborn as sns\n",
    "import numpy as np\n",
    "import pandas as pd\n",
    "\n",
    "%matplotlib inline\n",
    "%config InlineBackend.figure_format = 'svg'\n",
    "\n",
    "# https://pandas.pydata.org/pandas-docs/stable/visualization.html\n",
    "# http://pandas.pydata.org/pandas-docs/version/0.13/visualization.html\n",
    "# https://matplotlib.org/users/pyplot_tutorial.html\n",
    "\n",
    "# Set up the style of the graphs, and display a sample graph\n",
    "graph_style = 5\n",
    "plt.style.use(plt.style.available[graph_style])  # 5, 14, 22\n",
    "sns.set_context(\"paper\")"
   ]
  },
  {
   "cell_type": "markdown",
   "metadata": {},
   "source": [
    "## Imports and Function Declarations"
   ]
  },
  {
   "cell_type": "code",
   "execution_count": null,
   "metadata": {},
   "outputs": [],
   "source": [
    "# Standard Imports\n",
    "# These should not be changed, as they are used to set the 'constant'\n",
    "# global variables for each module.\n",
    "from EA_Methods.Pandas_Rep import ParentSelectionMethods as PSM\n",
    "from EA_Methods.Pandas_Rep import RecombinationMethods as RM\n",
    "from EA_Methods.Pandas_Rep import MutationMethods as MM\n",
    "from EA_Methods.Pandas_Rep import SurvivorSelectionMethods as SSM\n",
    "\n",
    "# Modular Imports\n",
    "# Modular Problem Definition\n",
    "# By changing this import, you can easily redifine the problem you are \n",
    "# attempting to solve, without having to re-write much of the code.\n",
    "from Setups.TSP import TSP_PDS as DEF\n",
    "\n",
    "\n",
    "# Modular Function 'Declarations'\n",
    "# By swapping out which functions are accessed the entire structure of the \n",
    "# EA algorithm can be changed without rewriting code in the main method.\n",
    "parse_file          =      DEF.read_tsp_file\n",
    "eval_fitness        =      DEF.euclidean_distance\n",
    "initialize          =      DEF.random_initialization\n",
    "parent_selection    =      PSM.roulette\n",
    "generate_offspring  =      RM.order_crossover\n",
    "apply_mutation      =      MM.permutation_swap\n",
    "select_survivors    =      SSM.replacement\n",
    "\n",
    "\n",
    "# Global Variable Initialization\n",
    "FILENUM             =      1  # Changing this variable changes which file to parse.\n",
    "genome_length       =      parse_file(FILENUM)\n",
    "generation_limit    =      100\n",
    "population_size     =      60\n",
    "mating_pool_size    =      population_size//2 if (population_size//2) % 2 == 0 else (population_size//2)+1  # has to be even\n",
    "\n",
    "tournament_size     =      population_size//10\n",
    "crossover_rate      =      0.9\n",
    "crossover_point     =      genome_length//3\n",
    "mutation_rate       =      0.2\n",
    "\n",
    "\n",
    "# Key Variable Setters\n",
    "# These functions typically do not need to be changed, and simply allow\n",
    "# easy changing of all rates and variables from the variables above.\n",
    "PSM.set_tournament_size(tournament_size)\n",
    "RM.set_genome_length(genome_length)\n",
    "RM.set_crossover_point(crossover_point)\n",
    "RM.set_crossover_rate(crossover_rate)\n",
    "MM.set_genome_length(genome_length)\n",
    "MM.set_mutation_rate(mutation_rate)\n",
    "MM.set_fitness_function(eval_fitness)\n",
    "SSM.set_population_size(population_size)\n",
    "SSM.set_mating_pool_size(mating_pool_size)\n",
    "DEF.set_fitness_function(eval_fitness)\n",
    "\n",
    "def set_ops(maximize): # Sets dynamic standard for 'best'\n",
    "    op = max if maximize else min\n",
    "    PSM.set_op(op)\n",
    "    SSM.set_op(op)\n",
    "    DEF.set_op(op)\n",
    "\n",
    "DEF.CITIES.head()"
   ]
  },
  {
   "cell_type": "markdown",
   "metadata": {},
   "source": [
    "## Main Code"
   ]
  },
  {
   "cell_type": "code",
   "execution_count": null,
   "metadata": {},
   "outputs": [],
   "source": [
    "def evolution_algorithm(maximize, print_gens=True, display_freq=None):\n",
    "    if display_freq is None: display_freq = generation_limit\n",
    "    \n",
    "    set_ops(maximize)                                           # Sets dynamic standard for 'best'\n",
    "    population = initialize(population_size, genome_length)     # Initialize Population\n",
    "    if print_gens: DEF.start_up_display()                       # Prints City Locations\n",
    "    \n",
    "    # Evolution starts\n",
    "    for generation in range(generation_limit):\n",
    "        # Generation Info\n",
    "        if print_gens and (generation % display_freq == display_freq - 1):\n",
    "            DEF.generation_display(population, generation+1)    # Displays Best Path\n",
    "    \n",
    "        parents = parent_selection(population, mating_pool_size)# Parent Selection\n",
    "        offspring = generate_offspring(parents)                 # Parent Recombination\n",
    "        offspring = apply_mutation(offspring)                   # Mutation Application\n",
    "        population = select_survivors(population, offspring)    # Survivor Selection\n",
    "    # Evolution ends\n",
    "        \n",
    "    # Final Fitness Info\n",
    "    DEF.final_display(population)"
   ]
  },
  {
   "cell_type": "code",
   "execution_count": null,
   "metadata": {},
   "outputs": [],
   "source": [
    "freq = min(int(generation_limit * 0.1), 500)\n",
    "print('\\n\\nDisplaying information every {} generations.\\n\\n'.format(freq))\n",
    "evolution_algorithm(False, True, freq)"
   ]
  },
  {
   "cell_type": "markdown",
   "metadata": {},
   "source": [
    "## Temporary Method Testing"
   ]
  },
  {
   "cell_type": "code",
   "execution_count": null,
   "metadata": {},
   "outputs": [],
   "source": [
    "set_ops(maximize=False)"
   ]
  },
  {
   "cell_type": "code",
   "execution_count": null,
   "metadata": {},
   "outputs": [],
   "source": [
    "# random_initialization     - Finished\n",
    "# heurisitic_initialization - Stub\n",
    "initialize                  = DEF.random_initialization\n",
    "\n",
    "population = initialize(population_size, genome_length)\n",
    "population.head()\n",
    "# type(population['individuals'][0])"
   ]
  },
  {
   "cell_type": "code",
   "execution_count": null,
   "metadata": {},
   "outputs": [],
   "source": [
    "# mps               - In Progress\n",
    "# tournament        - In Progress\n",
    "# roulette          - Finished\n",
    "# random_uniform    - Finished\n",
    "parent_selection    = PSM.random_uniform\n",
    "\n",
    "parents = parent_selection(population, mating_pool_size)\n",
    "parents.head()"
   ]
  },
  {
   "cell_type": "code",
   "execution_count": null,
   "metadata": {},
   "outputs": [],
   "source": [
    "# recombination_cut_crossover   - Finished\n",
    "# recombination_pmx_crossover   - Stub\n",
    "# recombination_edge_crossover  - Stub\n",
    "# recombination_order_crossover - Stub\n",
    "generate_offspring              = RM.order_crossover\n",
    "\n",
    "offspring = generate_offspring(parents)\n",
    "offspring"
   ]
  },
  {
   "cell_type": "code",
   "execution_count": null,
   "metadata": {},
   "outputs": [],
   "source": [
    "# permutation_swap       - Finished\n",
    "# permutation_insert     - Stub\n",
    "# permutation_inversion  - Stub\n",
    "# permutation_scramble   - Stub\n",
    "apply_mutation           = MM.permutation_swap\n",
    "\n",
    "offspring = apply_mutation(offspring)\n",
    "offspring.head()"
   ]
  },
  {
   "cell_type": "code",
   "execution_count": null,
   "metadata": {},
   "outputs": [],
   "source": [
    "# mu_plus_lambda    - Finished\n",
    "# replacement       - Finished\n",
    "# random_uniform    - Finished\n",
    "select_survivors    = SSM.mu_plus_lambda\n",
    "\n",
    "population = select_survivors(population, offspring)\n",
    "population.head()"
   ]
  },
  {
   "cell_type": "markdown",
   "metadata": {},
   "source": [
    "## Helper Functions"
   ]
  },
  {
   "cell_type": "code",
   "execution_count": null,
   "metadata": {},
   "outputs": [],
   "source": [
    "# Sahara\n",
    "parse_file(1)\n",
    "DEF.start_up_display()\n",
    "#TSP.brute_force_solver()"
   ]
  },
  {
   "cell_type": "code",
   "execution_count": null,
   "metadata": {},
   "outputs": [],
   "source": [
    "# Uraguay\n",
    "parse_file(2)\n",
    "DEF.start_up_display()\n",
    "#TSP.brute_force_solver()"
   ]
  },
  {
   "cell_type": "code",
   "execution_count": null,
   "metadata": {},
   "outputs": [],
   "source": [
    "# Canada\n",
    "parse_file(3)\n",
    "DEF.start_up_display()\n",
    "#TSP.brute_force_solver()"
   ]
  },
  {
   "cell_type": "code",
   "execution_count": null,
   "metadata": {},
   "outputs": [],
   "source": []
  }
 ],
 "metadata": {
  "kernelspec": {
   "display_name": "Python 3",
   "language": "python",
   "name": "python3"
  },
  "language_info": {
   "codemirror_mode": {
    "name": "ipython",
    "version": 3
   },
   "file_extension": ".py",
   "mimetype": "text/x-python",
   "name": "python",
   "nbconvert_exporter": "python",
   "pygments_lexer": "ipython3",
   "version": "3.6.4"
  }
 },
 "nbformat": 4,
 "nbformat_minor": 1
}
